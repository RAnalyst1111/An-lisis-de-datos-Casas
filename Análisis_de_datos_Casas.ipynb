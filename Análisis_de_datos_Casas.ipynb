{
  "nbformat": 4,
  "nbformat_minor": 0,
  "metadata": {
    "colab": {
      "provenance": [],
      "collapsed_sections": [
        "1dGBkv8qXvaB",
        "x1rZub1Vq6vA",
        "1XAZOKx5X5SG",
        "bh2u6LlJYA01",
        "Ex1VYfymYxDU",
        "YtjZ8-BoXZ5O",
        "IUtbFaI0WmXs",
        "0W_QO3AQWwAw",
        "woOi5GOpW35e",
        "CNHRJaVZZBmL",
        "CRWyGr3dcyHc"
      ],
      "include_colab_link": true
    },
    "kernelspec": {
      "name": "python3",
      "display_name": "Python 3"
    },
    "language_info": {
      "name": "python"
    }
  },
  "cells": [
    {
      "cell_type": "markdown",
      "metadata": {
        "id": "view-in-github",
        "colab_type": "text"
      },
      "source": [
        "<a href=\"https://colab.research.google.com/github/RAnalyst1111/Analisis-de-datos-Casas/blob/main/An%C3%A1lisis_de_datos_Casas.ipynb\" target=\"_parent\"><img src=\"https://colab.research.google.com/assets/colab-badge.svg\" alt=\"Open In Colab\"/></a>"
      ]
    },
    {
      "cell_type": "code",
      "execution_count": null,
      "metadata": {
        "id": "vso5wmEVnSok"
      },
      "outputs": [],
      "source": [
        "import numpy as np\n",
        "import pandas as pd\n",
        "import matplotlib.pyplot as plt\n",
        "import seaborn as sns"
      ]
    },
    {
      "cell_type": "code",
      "source": [
        "df_original=pd.read_csv('/content/casas.csv')"
      ],
      "metadata": {
        "id": "9lRQG-oAoI6v"
      },
      "execution_count": null,
      "outputs": []
    },
    {
      "cell_type": "markdown",
      "source": [
        "### **Comienzo del análisis exploratorio en los datos**"
      ],
      "metadata": {
        "id": "1dGBkv8qXvaB"
      }
    },
    {
      "cell_type": "code",
      "source": [
        "type(df_original)"
      ],
      "metadata": {
        "colab": {
          "base_uri": "https://localhost:8080/"
        },
        "id": "88m3pzVsoc24",
        "outputId": "7bab1e09-9037-40c0-f44d-1cc5a54b77d0"
      },
      "execution_count": null,
      "outputs": [
        {
          "output_type": "execute_result",
          "data": {
            "text/plain": [
              "pandas.core.frame.DataFrame"
            ]
          },
          "metadata": {},
          "execution_count": 6
        }
      ]
    },
    {
      "cell_type": "code",
      "source": [
        "df_original.head()"
      ],
      "metadata": {
        "colab": {
          "base_uri": "https://localhost:8080/"
        },
        "id": "bCfQkutColC7",
        "outputId": "9c01b92c-1e8e-485c-8edb-e8c7253844f4"
      },
      "execution_count": null,
      "outputs": [
        {
          "output_type": "execute_result",
          "data": {
            "text/plain": [
              "           m2  Ano_construccion  n_habitaciones  n_ventanas  n_banos  \\\n",
              "0   87.912100              1947               3           6        2   \n",
              "1   85.315972              2022               3           6        1   \n",
              "2   78.376723              1961               2           6        1   \n",
              "3  112.140336              2011               4          16        1   \n",
              "4  107.020064              1968               3           3        1   \n",
              "\n",
              "        Precio  \n",
              "0  299538.5044  \n",
              "1  301890.5662  \n",
              "2  268969.3187  \n",
              "3  394649.8780  \n",
              "4  368577.0992  "
            ],
            "text/html": [
              "\n",
              "  <div id=\"df-bd5e3c8e-5fdf-4b8b-a6c2-2bd0c4317f78\">\n",
              "    <div class=\"colab-df-container\">\n",
              "      <div>\n",
              "<style scoped>\n",
              "    .dataframe tbody tr th:only-of-type {\n",
              "        vertical-align: middle;\n",
              "    }\n",
              "\n",
              "    .dataframe tbody tr th {\n",
              "        vertical-align: top;\n",
              "    }\n",
              "\n",
              "    .dataframe thead th {\n",
              "        text-align: right;\n",
              "    }\n",
              "</style>\n",
              "<table border=\"1\" class=\"dataframe\">\n",
              "  <thead>\n",
              "    <tr style=\"text-align: right;\">\n",
              "      <th></th>\n",
              "      <th>m2</th>\n",
              "      <th>Ano_construccion</th>\n",
              "      <th>n_habitaciones</th>\n",
              "      <th>n_ventanas</th>\n",
              "      <th>n_banos</th>\n",
              "      <th>Precio</th>\n",
              "    </tr>\n",
              "  </thead>\n",
              "  <tbody>\n",
              "    <tr>\n",
              "      <th>0</th>\n",
              "      <td>87.912100</td>\n",
              "      <td>1947</td>\n",
              "      <td>3</td>\n",
              "      <td>6</td>\n",
              "      <td>2</td>\n",
              "      <td>299538.5044</td>\n",
              "    </tr>\n",
              "    <tr>\n",
              "      <th>1</th>\n",
              "      <td>85.315972</td>\n",
              "      <td>2022</td>\n",
              "      <td>3</td>\n",
              "      <td>6</td>\n",
              "      <td>1</td>\n",
              "      <td>301890.5662</td>\n",
              "    </tr>\n",
              "    <tr>\n",
              "      <th>2</th>\n",
              "      <td>78.376723</td>\n",
              "      <td>1961</td>\n",
              "      <td>2</td>\n",
              "      <td>6</td>\n",
              "      <td>1</td>\n",
              "      <td>268969.3187</td>\n",
              "    </tr>\n",
              "    <tr>\n",
              "      <th>3</th>\n",
              "      <td>112.140336</td>\n",
              "      <td>2011</td>\n",
              "      <td>4</td>\n",
              "      <td>16</td>\n",
              "      <td>1</td>\n",
              "      <td>394649.8780</td>\n",
              "    </tr>\n",
              "    <tr>\n",
              "      <th>4</th>\n",
              "      <td>107.020064</td>\n",
              "      <td>1968</td>\n",
              "      <td>3</td>\n",
              "      <td>3</td>\n",
              "      <td>1</td>\n",
              "      <td>368577.0992</td>\n",
              "    </tr>\n",
              "  </tbody>\n",
              "</table>\n",
              "</div>\n",
              "      <button class=\"colab-df-convert\" onclick=\"convertToInteractive('df-bd5e3c8e-5fdf-4b8b-a6c2-2bd0c4317f78')\"\n",
              "              title=\"Convert this dataframe to an interactive table.\"\n",
              "              style=\"display:none;\">\n",
              "        \n",
              "  <svg xmlns=\"http://www.w3.org/2000/svg\" height=\"24px\"viewBox=\"0 0 24 24\"\n",
              "       width=\"24px\">\n",
              "    <path d=\"M0 0h24v24H0V0z\" fill=\"none\"/>\n",
              "    <path d=\"M18.56 5.44l.94 2.06.94-2.06 2.06-.94-2.06-.94-.94-2.06-.94 2.06-2.06.94zm-11 1L8.5 8.5l.94-2.06 2.06-.94-2.06-.94L8.5 2.5l-.94 2.06-2.06.94zm10 10l.94 2.06.94-2.06 2.06-.94-2.06-.94-.94-2.06-.94 2.06-2.06.94z\"/><path d=\"M17.41 7.96l-1.37-1.37c-.4-.4-.92-.59-1.43-.59-.52 0-1.04.2-1.43.59L10.3 9.45l-7.72 7.72c-.78.78-.78 2.05 0 2.83L4 21.41c.39.39.9.59 1.41.59.51 0 1.02-.2 1.41-.59l7.78-7.78 2.81-2.81c.8-.78.8-2.07 0-2.86zM5.41 20L4 18.59l7.72-7.72 1.47 1.35L5.41 20z\"/>\n",
              "  </svg>\n",
              "      </button>\n",
              "      \n",
              "  <style>\n",
              "    .colab-df-container {\n",
              "      display:flex;\n",
              "      flex-wrap:wrap;\n",
              "      gap: 12px;\n",
              "    }\n",
              "\n",
              "    .colab-df-convert {\n",
              "      background-color: #E8F0FE;\n",
              "      border: none;\n",
              "      border-radius: 50%;\n",
              "      cursor: pointer;\n",
              "      display: none;\n",
              "      fill: #1967D2;\n",
              "      height: 32px;\n",
              "      padding: 0 0 0 0;\n",
              "      width: 32px;\n",
              "    }\n",
              "\n",
              "    .colab-df-convert:hover {\n",
              "      background-color: #E2EBFA;\n",
              "      box-shadow: 0px 1px 2px rgba(60, 64, 67, 0.3), 0px 1px 3px 1px rgba(60, 64, 67, 0.15);\n",
              "      fill: #174EA6;\n",
              "    }\n",
              "\n",
              "    [theme=dark] .colab-df-convert {\n",
              "      background-color: #3B4455;\n",
              "      fill: #D2E3FC;\n",
              "    }\n",
              "\n",
              "    [theme=dark] .colab-df-convert:hover {\n",
              "      background-color: #434B5C;\n",
              "      box-shadow: 0px 1px 3px 1px rgba(0, 0, 0, 0.15);\n",
              "      filter: drop-shadow(0px 1px 2px rgba(0, 0, 0, 0.3));\n",
              "      fill: #FFFFFF;\n",
              "    }\n",
              "  </style>\n",
              "\n",
              "      <script>\n",
              "        const buttonEl =\n",
              "          document.querySelector('#df-bd5e3c8e-5fdf-4b8b-a6c2-2bd0c4317f78 button.colab-df-convert');\n",
              "        buttonEl.style.display =\n",
              "          google.colab.kernel.accessAllowed ? 'block' : 'none';\n",
              "\n",
              "        async function convertToInteractive(key) {\n",
              "          const element = document.querySelector('#df-bd5e3c8e-5fdf-4b8b-a6c2-2bd0c4317f78');\n",
              "          const dataTable =\n",
              "            await google.colab.kernel.invokeFunction('convertToInteractive',\n",
              "                                                     [key], {});\n",
              "          if (!dataTable) return;\n",
              "\n",
              "          const docLinkHtml = 'Like what you see? Visit the ' +\n",
              "            '<a target=\"_blank\" href=https://colab.research.google.com/notebooks/data_table.ipynb>data table notebook</a>'\n",
              "            + ' to learn more about interactive tables.';\n",
              "          element.innerHTML = '';\n",
              "          dataTable['output_type'] = 'display_data';\n",
              "          await google.colab.output.renderOutput(dataTable, element);\n",
              "          const docLink = document.createElement('div');\n",
              "          docLink.innerHTML = docLinkHtml;\n",
              "          element.appendChild(docLink);\n",
              "        }\n",
              "      </script>\n",
              "    </div>\n",
              "  </div>\n",
              "  "
            ]
          },
          "metadata": {},
          "execution_count": 7
        }
      ]
    },
    {
      "cell_type": "code",
      "source": [
        "df_original.describe()"
      ],
      "metadata": {
        "id": "9--cucJOomuI",
        "outputId": "1b91dce3-5e7e-4b5b-987f-87a3b8814d1f",
        "colab": {
          "base_uri": "https://localhost:8080/"
        }
      },
      "execution_count": null,
      "outputs": [
        {
          "output_type": "execute_result",
          "data": {
            "text/plain": [
              "               m2  Ano_construccion  n_habitaciones  n_ventanas     n_banos  \\\n",
              "count  149.000000        149.000000      149.000000  149.000000  149.000000   \n",
              "mean    96.952059       1992.651007        3.174497    9.248322    1.697987   \n",
              "std     21.221602         86.165768        0.723463   13.114313    0.859798   \n",
              "min    -22.301393       1887.000000        1.000000    2.000000    1.000000   \n",
              "25%     84.709784       1966.000000        3.000000    4.000000    1.000000   \n",
              "50%     95.919298       1987.000000        3.000000    8.000000    1.000000   \n",
              "75%    111.415418       2010.000000        4.000000   12.000000    2.000000   \n",
              "max    144.855824       2987.000000        5.000000  160.000000    4.000000   \n",
              "\n",
              "              Precio  \n",
              "count     149.000000  \n",
              "mean   339349.852152  \n",
              "std     71441.876826  \n",
              "min    100901.666500  \n",
              "25%    292308.157700  \n",
              "50%    334774.486700  \n",
              "75%    388340.087400  \n",
              "max    605233.582600  "
            ],
            "text/html": [
              "\n",
              "  <div id=\"df-3614cb0e-ed4b-4ecd-b49c-5de52765bcf6\">\n",
              "    <div class=\"colab-df-container\">\n",
              "      <div>\n",
              "<style scoped>\n",
              "    .dataframe tbody tr th:only-of-type {\n",
              "        vertical-align: middle;\n",
              "    }\n",
              "\n",
              "    .dataframe tbody tr th {\n",
              "        vertical-align: top;\n",
              "    }\n",
              "\n",
              "    .dataframe thead th {\n",
              "        text-align: right;\n",
              "    }\n",
              "</style>\n",
              "<table border=\"1\" class=\"dataframe\">\n",
              "  <thead>\n",
              "    <tr style=\"text-align: right;\">\n",
              "      <th></th>\n",
              "      <th>m2</th>\n",
              "      <th>Ano_construccion</th>\n",
              "      <th>n_habitaciones</th>\n",
              "      <th>n_ventanas</th>\n",
              "      <th>n_banos</th>\n",
              "      <th>Precio</th>\n",
              "    </tr>\n",
              "  </thead>\n",
              "  <tbody>\n",
              "    <tr>\n",
              "      <th>count</th>\n",
              "      <td>149.000000</td>\n",
              "      <td>149.000000</td>\n",
              "      <td>149.000000</td>\n",
              "      <td>149.000000</td>\n",
              "      <td>149.000000</td>\n",
              "      <td>149.000000</td>\n",
              "    </tr>\n",
              "    <tr>\n",
              "      <th>mean</th>\n",
              "      <td>96.952059</td>\n",
              "      <td>1992.651007</td>\n",
              "      <td>3.174497</td>\n",
              "      <td>9.248322</td>\n",
              "      <td>1.697987</td>\n",
              "      <td>339349.852152</td>\n",
              "    </tr>\n",
              "    <tr>\n",
              "      <th>std</th>\n",
              "      <td>21.221602</td>\n",
              "      <td>86.165768</td>\n",
              "      <td>0.723463</td>\n",
              "      <td>13.114313</td>\n",
              "      <td>0.859798</td>\n",
              "      <td>71441.876826</td>\n",
              "    </tr>\n",
              "    <tr>\n",
              "      <th>min</th>\n",
              "      <td>-22.301393</td>\n",
              "      <td>1887.000000</td>\n",
              "      <td>1.000000</td>\n",
              "      <td>2.000000</td>\n",
              "      <td>1.000000</td>\n",
              "      <td>100901.666500</td>\n",
              "    </tr>\n",
              "    <tr>\n",
              "      <th>25%</th>\n",
              "      <td>84.709784</td>\n",
              "      <td>1966.000000</td>\n",
              "      <td>3.000000</td>\n",
              "      <td>4.000000</td>\n",
              "      <td>1.000000</td>\n",
              "      <td>292308.157700</td>\n",
              "    </tr>\n",
              "    <tr>\n",
              "      <th>50%</th>\n",
              "      <td>95.919298</td>\n",
              "      <td>1987.000000</td>\n",
              "      <td>3.000000</td>\n",
              "      <td>8.000000</td>\n",
              "      <td>1.000000</td>\n",
              "      <td>334774.486700</td>\n",
              "    </tr>\n",
              "    <tr>\n",
              "      <th>75%</th>\n",
              "      <td>111.415418</td>\n",
              "      <td>2010.000000</td>\n",
              "      <td>4.000000</td>\n",
              "      <td>12.000000</td>\n",
              "      <td>2.000000</td>\n",
              "      <td>388340.087400</td>\n",
              "    </tr>\n",
              "    <tr>\n",
              "      <th>max</th>\n",
              "      <td>144.855824</td>\n",
              "      <td>2987.000000</td>\n",
              "      <td>5.000000</td>\n",
              "      <td>160.000000</td>\n",
              "      <td>4.000000</td>\n",
              "      <td>605233.582600</td>\n",
              "    </tr>\n",
              "  </tbody>\n",
              "</table>\n",
              "</div>\n",
              "      <button class=\"colab-df-convert\" onclick=\"convertToInteractive('df-3614cb0e-ed4b-4ecd-b49c-5de52765bcf6')\"\n",
              "              title=\"Convert this dataframe to an interactive table.\"\n",
              "              style=\"display:none;\">\n",
              "        \n",
              "  <svg xmlns=\"http://www.w3.org/2000/svg\" height=\"24px\"viewBox=\"0 0 24 24\"\n",
              "       width=\"24px\">\n",
              "    <path d=\"M0 0h24v24H0V0z\" fill=\"none\"/>\n",
              "    <path d=\"M18.56 5.44l.94 2.06.94-2.06 2.06-.94-2.06-.94-.94-2.06-.94 2.06-2.06.94zm-11 1L8.5 8.5l.94-2.06 2.06-.94-2.06-.94L8.5 2.5l-.94 2.06-2.06.94zm10 10l.94 2.06.94-2.06 2.06-.94-2.06-.94-.94-2.06-.94 2.06-2.06.94z\"/><path d=\"M17.41 7.96l-1.37-1.37c-.4-.4-.92-.59-1.43-.59-.52 0-1.04.2-1.43.59L10.3 9.45l-7.72 7.72c-.78.78-.78 2.05 0 2.83L4 21.41c.39.39.9.59 1.41.59.51 0 1.02-.2 1.41-.59l7.78-7.78 2.81-2.81c.8-.78.8-2.07 0-2.86zM5.41 20L4 18.59l7.72-7.72 1.47 1.35L5.41 20z\"/>\n",
              "  </svg>\n",
              "      </button>\n",
              "      \n",
              "  <style>\n",
              "    .colab-df-container {\n",
              "      display:flex;\n",
              "      flex-wrap:wrap;\n",
              "      gap: 12px;\n",
              "    }\n",
              "\n",
              "    .colab-df-convert {\n",
              "      background-color: #E8F0FE;\n",
              "      border: none;\n",
              "      border-radius: 50%;\n",
              "      cursor: pointer;\n",
              "      display: none;\n",
              "      fill: #1967D2;\n",
              "      height: 32px;\n",
              "      padding: 0 0 0 0;\n",
              "      width: 32px;\n",
              "    }\n",
              "\n",
              "    .colab-df-convert:hover {\n",
              "      background-color: #E2EBFA;\n",
              "      box-shadow: 0px 1px 2px rgba(60, 64, 67, 0.3), 0px 1px 3px 1px rgba(60, 64, 67, 0.15);\n",
              "      fill: #174EA6;\n",
              "    }\n",
              "\n",
              "    [theme=dark] .colab-df-convert {\n",
              "      background-color: #3B4455;\n",
              "      fill: #D2E3FC;\n",
              "    }\n",
              "\n",
              "    [theme=dark] .colab-df-convert:hover {\n",
              "      background-color: #434B5C;\n",
              "      box-shadow: 0px 1px 3px 1px rgba(0, 0, 0, 0.15);\n",
              "      filter: drop-shadow(0px 1px 2px rgba(0, 0, 0, 0.3));\n",
              "      fill: #FFFFFF;\n",
              "    }\n",
              "  </style>\n",
              "\n",
              "      <script>\n",
              "        const buttonEl =\n",
              "          document.querySelector('#df-3614cb0e-ed4b-4ecd-b49c-5de52765bcf6 button.colab-df-convert');\n",
              "        buttonEl.style.display =\n",
              "          google.colab.kernel.accessAllowed ? 'block' : 'none';\n",
              "\n",
              "        async function convertToInteractive(key) {\n",
              "          const element = document.querySelector('#df-3614cb0e-ed4b-4ecd-b49c-5de52765bcf6');\n",
              "          const dataTable =\n",
              "            await google.colab.kernel.invokeFunction('convertToInteractive',\n",
              "                                                     [key], {});\n",
              "          if (!dataTable) return;\n",
              "\n",
              "          const docLinkHtml = 'Like what you see? Visit the ' +\n",
              "            '<a target=\"_blank\" href=https://colab.research.google.com/notebooks/data_table.ipynb>data table notebook</a>'\n",
              "            + ' to learn more about interactive tables.';\n",
              "          element.innerHTML = '';\n",
              "          dataTable['output_type'] = 'display_data';\n",
              "          await google.colab.output.renderOutput(dataTable, element);\n",
              "          const docLink = document.createElement('div');\n",
              "          docLink.innerHTML = docLinkHtml;\n",
              "          element.appendChild(docLink);\n",
              "        }\n",
              "      </script>\n",
              "    </div>\n",
              "  </div>\n",
              "  "
            ]
          },
          "metadata": {},
          "execution_count": 8
        }
      ]
    },
    {
      "cell_type": "markdown",
      "source": [
        "### **Cosas que notamos en describe y necesitan ser analizadas con mayor profundidad**"
      ],
      "metadata": {
        "id": "x1rZub1Vq6vA"
      }
    },
    {
      "cell_type": "markdown",
      "source": [],
      "metadata": {
        "id": "mHgaPIFIZNZd"
      }
    },
    {
      "cell_type": "markdown",
      "source": [
        "![CasasDF_Inicial.PNG](data:image/png;base64,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)"
      ],
      "metadata": {
        "id": "XuYbBvPxZNbT"
      }
    },
    {
      "cell_type": "markdown",
      "source": [
        "Metros cuadrados negativos => Una casa no puede tener un valor negativo de metros cuadrados.\n",
        "\n",
        "Año de construcción => \n",
        "  Valor máximo, se le asignó a uno o más campos, un año que aún no ha llegado. Podría ser que el año \"2987\" sea una mera etiqueta interna para identificar ciertas propiedades?. Al ser un número, afecta los cálculos que se apliquen sobre el conjunto de datos y causa distorsiones en la interpretación de resultados.\n",
        "\n",
        "N_Ventanas => Nos resulta raro creer que, una o más propiedades cuenten con 160 ventanas. Salvo de que, se tratase de un tipo muy particular de arquitectura. A los fines prácticos de este ejercicio, identificaremos y reemplazaremos este valor con el promedio pero coincidimos que, en un ámbito laboral real, solicitaríamos mayor contexto sobre el conjunto de datos. Por ejemplo: Este conjunto de datos, se trata de todas las obras realizadas por un arquitecto en su vida?, es un conjunto de datos de un censo?.\n",
        "\n",
        "Precio => Vemos que el valor para una o más propiedades gira en torno a los 600.000. Es un valor superior en 50% del 75% de las propiedades. Sentimos curiosidad por conocer características adicionales que hagan al valor de la propiedad para poder determinar si se trata o no de un dato erróneo (Algunos ejemplos de características: Ubicación, antiguos propietarios, arquitecto que lo construyó)\n",
        "\n",
        "\n"
      ],
      "metadata": {
        "id": "CFFYD0hArff9"
      }
    },
    {
      "cell_type": "markdown",
      "source": [
        "#### Gráficos de las columnas de df_original"
      ],
      "metadata": {
        "id": "1XAZOKx5X5SG"
      }
    },
    {
      "cell_type": "code",
      "source": [
        "sns.displot(df_original[\"m2\"])\n",
        "plt.show()"
      ],
      "metadata": {
        "colab": {
          "base_uri": "https://localhost:8080/",
          "height": 369
        },
        "id": "qwr0JarcpSDW",
        "outputId": "68d66ac1-46a8-4c60-952c-e73b3e2824f0"
      },
      "execution_count": null,
      "outputs": [
        {
          "output_type": "display_data",
          "data": {
            "text/plain": [
              "<Figure size 360x360 with 1 Axes>"
            ],
            "image/png": "[encoded data removed]"
          },
          "metadata": {
            "needs_background": "light"
          }
        }
      ]
    },
    {
      "cell_type": "markdown",
      "source": [
        "Como hemos identificado anteriormente, existe al menos 1 propiedad con metros cuadrados negativos; y\n",
        "\n",
        "Existe una concentración de propiedades con valores que oscilan entre los 75 m2 y 125 m2"
      ],
      "metadata": {
        "id": "OqjsHlmSPHa9"
      }
    },
    {
      "cell_type": "code",
      "source": [
        "sns.displot(df_original[\"Ano_construccion\"])\n",
        "plt.show()"
      ],
      "metadata": {
        "colab": {
          "base_uri": "https://localhost:8080/",
          "height": 369
        },
        "id": "7E0HWLyKqlr_",
        "outputId": "8152e249-6a11-47c6-9382-044d8336cc7c"
      },
      "execution_count": null,
      "outputs": [
        {
          "output_type": "display_data",
          "data": {
            "text/plain": [
              "<Figure size 360x360 with 1 Axes>"
            ],
            "image/png": "[encoded data removed]"
          },
          "metadata": {
            "needs_background": "light"
          }
        }
      ]
    },
    {
      "cell_type": "markdown",
      "source": [
        "Al existir una brecha tan extensa entre 2 años de construcción, ocasiona que visualmente no se pueda analizar o interpretar de forma sencilla y simple un conjunto de datos. Por ello, la necesidad de:\n",
        "\n",
        "- En caso de tratar con datos erróneos: tratar el dato\n",
        "- En caso de que los datos sean correctos: agrupar los datos y realizar análisis en función a agrupaciones o excluir los valores que se encuentren más alejados del grupo (por no tener un incidencia significante sobre el % total)"
      ],
      "metadata": {
        "id": "ziiFN7-UPjh9"
      }
    },
    {
      "cell_type": "code",
      "source": [
        "sns.displot(df_original[\"n_habitaciones\"])\n",
        "plt.show()"
      ],
      "metadata": {
        "colab": {
          "base_uri": "https://localhost:8080/",
          "height": 369
        },
        "id": "3d5NU5WJpSIn",
        "outputId": "7984f435-6e64-422d-9c5e-59a2100439bd"
      },
      "execution_count": null,
      "outputs": [
        {
          "output_type": "display_data",
          "data": {
            "text/plain": [
              "<Figure size 360x360 with 1 Axes>"
            ],
            "image/png": "[encoded data removed]"
          },
          "metadata": {
            "needs_background": "light"
          }
        }
      ]
    },
    {
      "cell_type": "markdown",
      "source": [
        "Podemos observar que, la mayoría de propiedades (de este conjunto de datos) cuentan con 3 o 4 habitaciones (>=80%)"
      ],
      "metadata": {
        "id": "h1XgyqrWQwCF"
      }
    },
    {
      "cell_type": "code",
      "source": [
        "sns.displot(df_original[\"n_ventanas\"])\n",
        "plt.show()"
      ],
      "metadata": {
        "colab": {
          "base_uri": "https://localhost:8080/",
          "height": 369
        },
        "id": "SEq-lMdMt06V",
        "outputId": "2e0061c7-ca14-47b3-af55-c6834e4527d6"
      },
      "execution_count": null,
      "outputs": [
        {
          "output_type": "display_data",
          "data": {
            "text/plain": [
              "<Figure size 360x360 with 1 Axes>"
            ],
            "image/png": "[encoded data removed]"
          },
          "metadata": {
            "needs_background": "light"
          }
        }
      ]
    },
    {
      "cell_type": "markdown",
      "source": [
        "Fácilmente, se puede evidenciar la propiedad con 160 ventanas."
      ],
      "metadata": {
        "id": "uOOx41MqTyGi"
      }
    },
    {
      "cell_type": "code",
      "source": [
        "sns.displot(df_original[\"n_banos\"])\n",
        "plt.show()"
      ],
      "metadata": {
        "colab": {
          "base_uri": "https://localhost:8080/",
          "height": 369
        },
        "id": "8MIqtEnLt4Ac",
        "outputId": "b220c741-433e-44b9-f8bb-b28e2f5a9e4d"
      },
      "execution_count": null,
      "outputs": [
        {
          "output_type": "display_data",
          "data": {
            "text/plain": [
              "<Figure size 360x360 with 1 Axes>"
            ],
            "image/png": "[encoded data removed]"
          },
          "metadata": {
            "needs_background": "light"
          }
        }
      ]
    },
    {
      "cell_type": "markdown",
      "source": [
        "Es frecuente encontrarse con una propiedad de 2 baños pero es aún más frecuente encontrarse una propiedad con 1 baño"
      ],
      "metadata": {
        "id": "vnvmc4-8T6vY"
      }
    },
    {
      "cell_type": "code",
      "source": [
        "sns.displot(df_original[\"Precio\"])\n",
        "plt.show()"
      ],
      "metadata": {
        "colab": {
          "base_uri": "https://localhost:8080/",
          "height": 369
        },
        "id": "j3teMCLpt5vc",
        "outputId": "e860e824-517b-4a99-cb0c-b7906867aaba"
      },
      "execution_count": null,
      "outputs": [
        {
          "output_type": "display_data",
          "data": {
            "text/plain": [
              "<Figure size 360x360 with 1 Axes>"
            ],
            "image/png": "[encoded data removed]"
          },
          "metadata": {
            "needs_background": "light"
          }
        }
      ]
    },
    {
      "cell_type": "markdown",
      "source": [
        "Lo normal es encontrarse con propiedades que tengan un precio entre los 300.000 y 400.000"
      ],
      "metadata": {
        "id": "cgAn-BUGUWan"
      }
    },
    {
      "cell_type": "markdown",
      "source": [
        "### **Inicio del tratamiento del dato**"
      ],
      "metadata": {
        "id": "bh2u6LlJYA01"
      }
    },
    {
      "cell_type": "markdown",
      "source": [
        "Creación de un dataframe intermedio en el cual trabajar y poder luego comparar resultados entre 'original' y 'resultado'"
      ],
      "metadata": {
        "id": "311f9ykwYpfr"
      }
    },
    {
      "cell_type": "code",
      "source": [
        "df_resultado=pd.read_csv('/content/casas.csv')"
      ],
      "metadata": {
        "id": "n8-u_CzjCZ5Y"
      },
      "execution_count": null,
      "outputs": []
    },
    {
      "cell_type": "markdown",
      "source": [
        "Verificamos si hay campos NaN"
      ],
      "metadata": {
        "id": "rcybf31rYmNT"
      }
    },
    {
      "cell_type": "code",
      "source": [
        "print(df_resultado.isna().sum(axis=0))"
      ],
      "metadata": {
        "colab": {
          "base_uri": "https://localhost:8080/"
        },
        "id": "DDZTv1FnuQlf",
        "outputId": "b754863e-89f6-49b8-feb0-5f298c0eff02"
      },
      "execution_count": null,
      "outputs": [
        {
          "output_type": "stream",
          "name": "stdout",
          "text": [
            "m2                  0\n",
            "Ano_construccion    0\n",
            "n_habitaciones      0\n",
            "n_ventanas          0\n",
            "n_banos             0\n",
            "Precio              0\n",
            "dtype: int64\n"
          ]
        }
      ]
    },
    {
      "cell_type": "markdown",
      "source": [
        "No se han encontrado datos del tipo NaN"
      ],
      "metadata": {
        "id": "Hg4GhgMYUnyH"
      }
    },
    {
      "cell_type": "markdown",
      "source": [
        "#### Sección: columna M2"
      ],
      "metadata": {
        "id": "Ex1VYfymYxDU"
      }
    },
    {
      "cell_type": "markdown",
      "source": [
        "Identificamos esos campos donde los m2 son menores o iguales a 0"
      ],
      "metadata": {
        "id": "oNaivce_YvlD"
      }
    },
    {
      "cell_type": "code",
      "source": [
        "df_resultado[df_resultado[\"m2\"]<=0]"
      ],
      "metadata": {
        "colab": {
          "base_uri": "https://localhost:8080/"
        },
        "id": "Fr0UrqNVuQ4W",
        "outputId": "5ba204b5-8284-4bad-ed70-26d730dca003"
      },
      "execution_count": null,
      "outputs": [
        {
          "output_type": "execute_result",
          "data": {
            "text/plain": [
              "           m2  Ano_construccion  n_habitaciones  n_ventanas  n_banos  \\\n",
              "78 -22.301393              2008               3           6        3   \n",
              "\n",
              "         Precio  \n",
              "78  335869.0143  "
            ],
            "text/html": [
              "\n",
              "  <div id=\"df-bf1a5afe-58d8-4339-9e50-086b28e7c026\">\n",
              "    <div class=\"colab-df-container\">\n",
              "      <div>\n",
              "<style scoped>\n",
              "    .dataframe tbody tr th:only-of-type {\n",
              "        vertical-align: middle;\n",
              "    }\n",
              "\n",
              "    .dataframe tbody tr th {\n",
              "        vertical-align: top;\n",
              "    }\n",
              "\n",
              "    .dataframe thead th {\n",
              "        text-align: right;\n",
              "    }\n",
              "</style>\n",
              "<table border=\"1\" class=\"dataframe\">\n",
              "  <thead>\n",
              "    <tr style=\"text-align: right;\">\n",
              "      <th></th>\n",
              "      <th>m2</th>\n",
              "      <th>Ano_construccion</th>\n",
              "      <th>n_habitaciones</th>\n",
              "      <th>n_ventanas</th>\n",
              "      <th>n_banos</th>\n",
              "      <th>Precio</th>\n",
              "    </tr>\n",
              "  </thead>\n",
              "  <tbody>\n",
              "    <tr>\n",
              "      <th>78</th>\n",
              "      <td>-22.301393</td>\n",
              "      <td>2008</td>\n",
              "      <td>3</td>\n",
              "      <td>6</td>\n",
              "      <td>3</td>\n",
              "      <td>335869.0143</td>\n",
              "    </tr>\n",
              "  </tbody>\n",
              "</table>\n",
              "</div>\n",
              "      <button class=\"colab-df-convert\" onclick=\"convertToInteractive('df-bf1a5afe-58d8-4339-9e50-086b28e7c026')\"\n",
              "              title=\"Convert this dataframe to an interactive table.\"\n",
              "              style=\"display:none;\">\n",
              "        \n",
              "  <svg xmlns=\"http://www.w3.org/2000/svg\" height=\"24px\"viewBox=\"0 0 24 24\"\n",
              "       width=\"24px\">\n",
              "    <path d=\"M0 0h24v24H0V0z\" fill=\"none\"/>\n",
              "    <path d=\"M18.56 5.44l.94 2.06.94-2.06 2.06-.94-2.06-.94-.94-2.06-.94 2.06-2.06.94zm-11 1L8.5 8.5l.94-2.06 2.06-.94-2.06-.94L8.5 2.5l-.94 2.06-2.06.94zm10 10l.94 2.06.94-2.06 2.06-.94-2.06-.94-.94-2.06-.94 2.06-2.06.94z\"/><path d=\"M17.41 7.96l-1.37-1.37c-.4-.4-.92-.59-1.43-.59-.52 0-1.04.2-1.43.59L10.3 9.45l-7.72 7.72c-.78.78-.78 2.05 0 2.83L4 21.41c.39.39.9.59 1.41.59.51 0 1.02-.2 1.41-.59l7.78-7.78 2.81-2.81c.8-.78.8-2.07 0-2.86zM5.41 20L4 18.59l7.72-7.72 1.47 1.35L5.41 20z\"/>\n",
              "  </svg>\n",
              "      </button>\n",
              "      \n",
              "  <style>\n",
              "    .colab-df-container {\n",
              "      display:flex;\n",
              "      flex-wrap:wrap;\n",
              "      gap: 12px;\n",
              "    }\n",
              "\n",
              "    .colab-df-convert {\n",
              "      background-color: #E8F0FE;\n",
              "      border: none;\n",
              "      border-radius: 50%;\n",
              "      cursor: pointer;\n",
              "      display: none;\n",
              "      fill: #1967D2;\n",
              "      height: 32px;\n",
              "      padding: 0 0 0 0;\n",
              "      width: 32px;\n",
              "    }\n",
              "\n",
              "    .colab-df-convert:hover {\n",
              "      background-color: #E2EBFA;\n",
              "      box-shadow: 0px 1px 2px rgba(60, 64, 67, 0.3), 0px 1px 3px 1px rgba(60, 64, 67, 0.15);\n",
              "      fill: #174EA6;\n",
              "    }\n",
              "\n",
              "    [theme=dark] .colab-df-convert {\n",
              "      background-color: #3B4455;\n",
              "      fill: #D2E3FC;\n",
              "    }\n",
              "\n",
              "    [theme=dark] .colab-df-convert:hover {\n",
              "      background-color: #434B5C;\n",
              "      box-shadow: 0px 1px 3px 1px rgba(0, 0, 0, 0.15);\n",
              "      filter: drop-shadow(0px 1px 2px rgba(0, 0, 0, 0.3));\n",
              "      fill: #FFFFFF;\n",
              "    }\n",
              "  </style>\n",
              "\n",
              "      <script>\n",
              "        const buttonEl =\n",
              "          document.querySelector('#df-bf1a5afe-58d8-4339-9e50-086b28e7c026 button.colab-df-convert');\n",
              "        buttonEl.style.display =\n",
              "          google.colab.kernel.accessAllowed ? 'block' : 'none';\n",
              "\n",
              "        async function convertToInteractive(key) {\n",
              "          const element = document.querySelector('#df-bf1a5afe-58d8-4339-9e50-086b28e7c026');\n",
              "          const dataTable =\n",
              "            await google.colab.kernel.invokeFunction('convertToInteractive',\n",
              "                                                     [key], {});\n",
              "          if (!dataTable) return;\n",
              "\n",
              "          const docLinkHtml = 'Like what you see? Visit the ' +\n",
              "            '<a target=\"_blank\" href=https://colab.research.google.com/notebooks/data_table.ipynb>data table notebook</a>'\n",
              "            + ' to learn more about interactive tables.';\n",
              "          element.innerHTML = '';\n",
              "          dataTable['output_type'] = 'display_data';\n",
              "          await google.colab.output.renderOutput(dataTable, element);\n",
              "          const docLink = document.createElement('div');\n",
              "          docLink.innerHTML = docLinkHtml;\n",
              "          element.appendChild(docLink);\n",
              "        }\n",
              "      </script>\n",
              "    </div>\n",
              "  </div>\n",
              "  "
            ]
          },
          "metadata": {},
          "execution_count": 17
        }
      ]
    },
    {
      "cell_type": "markdown",
      "source": [
        "El indice 78 cuenta con metros cuadrados negativos (lo cual es imposible físicamanete que esto suceda). Se decide identificar otras propiedades con características similares para intentar predecir los m2 que debería tener y, así, reemplazarlo por este nuevo valor"
      ],
      "metadata": {
        "id": "WY_3FYIrUsiI"
      }
    },
    {
      "cell_type": "code",
      "source": [
        "#Identificamos la existencia de otras propiedades con características similares para intentar predecir sus m2\n",
        "df_resultado[\n",
        "            df_resultado.n_habitaciones.isin([3]) &\n",
        "            ~df_resultado.Ano_construccion.isin([2008]) &\n",
        "            df_resultado.n_ventanas.isin([6]) &\n",
        "            df_resultado.n_banos.isin([3])\n",
        "]"
      ],
      "metadata": {
        "colab": {
          "base_uri": "https://localhost:8080/"
        },
        "id": "sfmqfBtmzyK7",
        "outputId": "5fc88043-c478-4c55-b4d2-ac23a9dc5937"
      },
      "execution_count": null,
      "outputs": [
        {
          "output_type": "execute_result",
          "data": {
            "text/plain": [
              "           m2  Ano_construccion  n_habitaciones  n_ventanas  n_banos  \\\n",
              "12  86.883516              1989               3           6        3   \n",
              "\n",
              "         Precio  \n",
              "12  302419.8001  "
            ],
            "text/html": [
              "\n",
              "  <div id=\"df-a8918e60-220a-4c35-b07b-d136e124a000\">\n",
              "    <div class=\"colab-df-container\">\n",
              "      <div>\n",
              "<style scoped>\n",
              "    .dataframe tbody tr th:only-of-type {\n",
              "        vertical-align: middle;\n",
              "    }\n",
              "\n",
              "    .dataframe tbody tr th {\n",
              "        vertical-align: top;\n",
              "    }\n",
              "\n",
              "    .dataframe thead th {\n",
              "        text-align: right;\n",
              "    }\n",
              "</style>\n",
              "<table border=\"1\" class=\"dataframe\">\n",
              "  <thead>\n",
              "    <tr style=\"text-align: right;\">\n",
              "      <th></th>\n",
              "      <th>m2</th>\n",
              "      <th>Ano_construccion</th>\n",
              "      <th>n_habitaciones</th>\n",
              "      <th>n_ventanas</th>\n",
              "      <th>n_banos</th>\n",
              "      <th>Precio</th>\n",
              "    </tr>\n",
              "  </thead>\n",
              "  <tbody>\n",
              "    <tr>\n",
              "      <th>12</th>\n",
              "      <td>86.883516</td>\n",
              "      <td>1989</td>\n",
              "      <td>3</td>\n",
              "      <td>6</td>\n",
              "      <td>3</td>\n",
              "      <td>302419.8001</td>\n",
              "    </tr>\n",
              "  </tbody>\n",
              "</table>\n",
              "</div>\n",
              "      <button class=\"colab-df-convert\" onclick=\"convertToInteractive('df-a8918e60-220a-4c35-b07b-d136e124a000')\"\n",
              "              title=\"Convert this dataframe to an interactive table.\"\n",
              "              style=\"display:none;\">\n",
              "        \n",
              "  <svg xmlns=\"http://www.w3.org/2000/svg\" height=\"24px\"viewBox=\"0 0 24 24\"\n",
              "       width=\"24px\">\n",
              "    <path d=\"M0 0h24v24H0V0z\" fill=\"none\"/>\n",
              "    <path d=\"M18.56 5.44l.94 2.06.94-2.06 2.06-.94-2.06-.94-.94-2.06-.94 2.06-2.06.94zm-11 1L8.5 8.5l.94-2.06 2.06-.94-2.06-.94L8.5 2.5l-.94 2.06-2.06.94zm10 10l.94 2.06.94-2.06 2.06-.94-2.06-.94-.94-2.06-.94 2.06-2.06.94z\"/><path d=\"M17.41 7.96l-1.37-1.37c-.4-.4-.92-.59-1.43-.59-.52 0-1.04.2-1.43.59L10.3 9.45l-7.72 7.72c-.78.78-.78 2.05 0 2.83L4 21.41c.39.39.9.59 1.41.59.51 0 1.02-.2 1.41-.59l7.78-7.78 2.81-2.81c.8-.78.8-2.07 0-2.86zM5.41 20L4 18.59l7.72-7.72 1.47 1.35L5.41 20z\"/>\n",
              "  </svg>\n",
              "      </button>\n",
              "      \n",
              "  <style>\n",
              "    .colab-df-container {\n",
              "      display:flex;\n",
              "      flex-wrap:wrap;\n",
              "      gap: 12px;\n",
              "    }\n",
              "\n",
              "    .colab-df-convert {\n",
              "      background-color: #E8F0FE;\n",
              "      border: none;\n",
              "      border-radius: 50%;\n",
              "      cursor: pointer;\n",
              "      display: none;\n",
              "      fill: #1967D2;\n",
              "      height: 32px;\n",
              "      padding: 0 0 0 0;\n",
              "      width: 32px;\n",
              "    }\n",
              "\n",
              "    .colab-df-convert:hover {\n",
              "      background-color: #E2EBFA;\n",
              "      box-shadow: 0px 1px 2px rgba(60, 64, 67, 0.3), 0px 1px 3px 1px rgba(60, 64, 67, 0.15);\n",
              "      fill: #174EA6;\n",
              "    }\n",
              "\n",
              "    [theme=dark] .colab-df-convert {\n",
              "      background-color: #3B4455;\n",
              "      fill: #D2E3FC;\n",
              "    }\n",
              "\n",
              "    [theme=dark] .colab-df-convert:hover {\n",
              "      background-color: #434B5C;\n",
              "      box-shadow: 0px 1px 3px 1px rgba(0, 0, 0, 0.15);\n",
              "      filter: drop-shadow(0px 1px 2px rgba(0, 0, 0, 0.3));\n",
              "      fill: #FFFFFF;\n",
              "    }\n",
              "  </style>\n",
              "\n",
              "      <script>\n",
              "        const buttonEl =\n",
              "          document.querySelector('#df-a8918e60-220a-4c35-b07b-d136e124a000 button.colab-df-convert');\n",
              "        buttonEl.style.display =\n",
              "          google.colab.kernel.accessAllowed ? 'block' : 'none';\n",
              "\n",
              "        async function convertToInteractive(key) {\n",
              "          const element = document.querySelector('#df-a8918e60-220a-4c35-b07b-d136e124a000');\n",
              "          const dataTable =\n",
              "            await google.colab.kernel.invokeFunction('convertToInteractive',\n",
              "                                                     [key], {});\n",
              "          if (!dataTable) return;\n",
              "\n",
              "          const docLinkHtml = 'Like what you see? Visit the ' +\n",
              "            '<a target=\"_blank\" href=https://colab.research.google.com/notebooks/data_table.ipynb>data table notebook</a>'\n",
              "            + ' to learn more about interactive tables.';\n",
              "          element.innerHTML = '';\n",
              "          dataTable['output_type'] = 'display_data';\n",
              "          await google.colab.output.renderOutput(dataTable, element);\n",
              "          const docLink = document.createElement('div');\n",
              "          docLink.innerHTML = docLinkHtml;\n",
              "          element.appendChild(docLink);\n",
              "        }\n",
              "      </script>\n",
              "    </div>\n",
              "  </div>\n",
              "  "
            ]
          },
          "metadata": {},
          "execution_count": 18
        }
      ]
    },
    {
      "cell_type": "markdown",
      "source": [
        "No existen propiedades similares en el año 2008 por eso se buscan propiedades en años distintos.\n",
        "\n",
        "Podría ser que desde el año 1989 al año 2008, el concepto de arquitectura para este tipo de propiedades se haya visto alterado y, como consecuencia, los metros cuadrados totales resultantes para la misma construcción en distintos años se haya visto disminuido en una leve cuantía. Aún así, los metros cuadrados de esta propiedad en el año 1989 es menor a la media del conjunto de datos. Por esto, optamos por el menor valor entre ambos (m2 de 1989)."
      ],
      "metadata": {
        "id": "8X8WdJ6uVCXo"
      }
    },
    {
      "cell_type": "code",
      "source": [
        "#Testing de extracción del value con múltiples condiciones\n",
        "cond= df_resultado[\n",
        "            df_resultado.n_habitaciones.isin([3]) &\n",
        "            ~df_resultado.Ano_construccion.isin([2008]) &\n",
        "            df_resultado.n_ventanas.isin([6]) &\n",
        "            df_resultado.n_banos.isin([3])]\n",
        "cond.at[12,\"m2\"]"
      ],
      "metadata": {
        "colab": {
          "base_uri": "https://localhost:8080/"
        },
        "id": "gY9kmMHLBTiA",
        "outputId": "59f80dbe-78cf-4c5b-aef5-015f8ea2c293"
      },
      "execution_count": null,
      "outputs": [
        {
          "output_type": "execute_result",
          "data": {
            "text/plain": [
              "86.8835165"
            ]
          },
          "metadata": {},
          "execution_count": 19
        }
      ]
    },
    {
      "cell_type": "code",
      "source": [
        "#Reemplazo del valor en la fila 78\n",
        "cond= df_resultado[\n",
        "            df_resultado.n_habitaciones.isin([3]) &\n",
        "            ~df_resultado.Ano_construccion.isin([2008]) &\n",
        "            df_resultado.n_ventanas.isin([6]) &\n",
        "            df_resultado.n_banos.isin([3])]\n",
        "\n",
        "indice= df_resultado[df_resultado[\"m2\"]<=0].index\n",
        "\n",
        "df_resultado.at[indice, \"m2\"] = cond.at[12,\"m2\"]\n",
        "df_resultado[78:79]"
      ],
      "metadata": {
        "colab": {
          "base_uri": "https://localhost:8080/"
        },
        "id": "GlEbPJoxuQ7W",
        "outputId": "06298658-ca7c-4646-a77f-9963aa669024"
      },
      "execution_count": null,
      "outputs": [
        {
          "output_type": "execute_result",
          "data": {
            "text/plain": [
              "           m2  Ano_construccion  n_habitaciones  n_ventanas  n_banos  \\\n",
              "78  86.883516              2008               3           6        3   \n",
              "\n",
              "         Precio  \n",
              "78  335869.0143  "
            ],
            "text/html": [
              "\n",
              "  <div id=\"df-7bfc3069-170e-447c-a231-b994eafb8d92\">\n",
              "    <div class=\"colab-df-container\">\n",
              "      <div>\n",
              "<style scoped>\n",
              "    .dataframe tbody tr th:only-of-type {\n",
              "        vertical-align: middle;\n",
              "    }\n",
              "\n",
              "    .dataframe tbody tr th {\n",
              "        vertical-align: top;\n",
              "    }\n",
              "\n",
              "    .dataframe thead th {\n",
              "        text-align: right;\n",
              "    }\n",
              "</style>\n",
              "<table border=\"1\" class=\"dataframe\">\n",
              "  <thead>\n",
              "    <tr style=\"text-align: right;\">\n",
              "      <th></th>\n",
              "      <th>m2</th>\n",
              "      <th>Ano_construccion</th>\n",
              "      <th>n_habitaciones</th>\n",
              "      <th>n_ventanas</th>\n",
              "      <th>n_banos</th>\n",
              "      <th>Precio</th>\n",
              "    </tr>\n",
              "  </thead>\n",
              "  <tbody>\n",
              "    <tr>\n",
              "      <th>78</th>\n",
              "      <td>86.883516</td>\n",
              "      <td>2008</td>\n",
              "      <td>3</td>\n",
              "      <td>6</td>\n",
              "      <td>3</td>\n",
              "      <td>335869.0143</td>\n",
              "    </tr>\n",
              "  </tbody>\n",
              "</table>\n",
              "</div>\n",
              "      <button class=\"colab-df-convert\" onclick=\"convertToInteractive('df-7bfc3069-170e-447c-a231-b994eafb8d92')\"\n",
              "              title=\"Convert this dataframe to an interactive table.\"\n",
              "              style=\"display:none;\">\n",
              "        \n",
              "  <svg xmlns=\"http://www.w3.org/2000/svg\" height=\"24px\"viewBox=\"0 0 24 24\"\n",
              "       width=\"24px\">\n",
              "    <path d=\"M0 0h24v24H0V0z\" fill=\"none\"/>\n",
              "    <path d=\"M18.56 5.44l.94 2.06.94-2.06 2.06-.94-2.06-.94-.94-2.06-.94 2.06-2.06.94zm-11 1L8.5 8.5l.94-2.06 2.06-.94-2.06-.94L8.5 2.5l-.94 2.06-2.06.94zm10 10l.94 2.06.94-2.06 2.06-.94-2.06-.94-.94-2.06-.94 2.06-2.06.94z\"/><path d=\"M17.41 7.96l-1.37-1.37c-.4-.4-.92-.59-1.43-.59-.52 0-1.04.2-1.43.59L10.3 9.45l-7.72 7.72c-.78.78-.78 2.05 0 2.83L4 21.41c.39.39.9.59 1.41.59.51 0 1.02-.2 1.41-.59l7.78-7.78 2.81-2.81c.8-.78.8-2.07 0-2.86zM5.41 20L4 18.59l7.72-7.72 1.47 1.35L5.41 20z\"/>\n",
              "  </svg>\n",
              "      </button>\n",
              "      \n",
              "  <style>\n",
              "    .colab-df-container {\n",
              "      display:flex;\n",
              "      flex-wrap:wrap;\n",
              "      gap: 12px;\n",
              "    }\n",
              "\n",
              "    .colab-df-convert {\n",
              "      background-color: #E8F0FE;\n",
              "      border: none;\n",
              "      border-radius: 50%;\n",
              "      cursor: pointer;\n",
              "      display: none;\n",
              "      fill: #1967D2;\n",
              "      height: 32px;\n",
              "      padding: 0 0 0 0;\n",
              "      width: 32px;\n",
              "    }\n",
              "\n",
              "    .colab-df-convert:hover {\n",
              "      background-color: #E2EBFA;\n",
              "      box-shadow: 0px 1px 2px rgba(60, 64, 67, 0.3), 0px 1px 3px 1px rgba(60, 64, 67, 0.15);\n",
              "      fill: #174EA6;\n",
              "    }\n",
              "\n",
              "    [theme=dark] .colab-df-convert {\n",
              "      background-color: #3B4455;\n",
              "      fill: #D2E3FC;\n",
              "    }\n",
              "\n",
              "    [theme=dark] .colab-df-convert:hover {\n",
              "      background-color: #434B5C;\n",
              "      box-shadow: 0px 1px 3px 1px rgba(0, 0, 0, 0.15);\n",
              "      filter: drop-shadow(0px 1px 2px rgba(0, 0, 0, 0.3));\n",
              "      fill: #FFFFFF;\n",
              "    }\n",
              "  </style>\n",
              "\n",
              "      <script>\n",
              "        const buttonEl =\n",
              "          document.querySelector('#df-7bfc3069-170e-447c-a231-b994eafb8d92 button.colab-df-convert');\n",
              "        buttonEl.style.display =\n",
              "          google.colab.kernel.accessAllowed ? 'block' : 'none';\n",
              "\n",
              "        async function convertToInteractive(key) {\n",
              "          const element = document.querySelector('#df-7bfc3069-170e-447c-a231-b994eafb8d92');\n",
              "          const dataTable =\n",
              "            await google.colab.kernel.invokeFunction('convertToInteractive',\n",
              "                                                     [key], {});\n",
              "          if (!dataTable) return;\n",
              "\n",
              "          const docLinkHtml = 'Like what you see? Visit the ' +\n",
              "            '<a target=\"_blank\" href=https://colab.research.google.com/notebooks/data_table.ipynb>data table notebook</a>'\n",
              "            + ' to learn more about interactive tables.';\n",
              "          element.innerHTML = '';\n",
              "          dataTable['output_type'] = 'display_data';\n",
              "          await google.colab.output.renderOutput(dataTable, element);\n",
              "          const docLink = document.createElement('div');\n",
              "          docLink.innerHTML = docLinkHtml;\n",
              "          element.appendChild(docLink);\n",
              "        }\n",
              "      </script>\n",
              "    </div>\n",
              "  </div>\n",
              "  "
            ]
          },
          "metadata": {},
          "execution_count": 20
        }
      ]
    },
    {
      "cell_type": "markdown",
      "source": [
        "Reemplazo de valor en la fila 78, realizado con éxito"
      ],
      "metadata": {
        "id": "1NhwcepaWdTZ"
      }
    },
    {
      "cell_type": "markdown",
      "source": [
        "#### Sección: columna Ano_construccion"
      ],
      "metadata": {
        "id": "YtjZ8-BoXZ5O"
      }
    },
    {
      "cell_type": "markdown",
      "source": [
        "##### Detección de Ano_construccion superior al año actual"
      ],
      "metadata": {
        "id": "IUtbFaI0WmXs"
      }
    },
    {
      "cell_type": "code",
      "source": [
        "df_resultado[df_resultado[\"Ano_construccion\"]>2022]"
      ],
      "metadata": {
        "colab": {
          "base_uri": "https://localhost:8080/"
        },
        "id": "jnjFe2CaEMBh",
        "outputId": "2e2ded3e-21b1-4fc8-ea67-16cdafedb7ab"
      },
      "execution_count": null,
      "outputs": [
        {
          "output_type": "execute_result",
          "data": {
            "text/plain": [
              "            m2  Ano_construccion  n_habitaciones  n_ventanas  n_banos  \\\n",
              "144  81.043402              2987               3           3        1   \n",
              "\n",
              "          Precio  \n",
              "144  286772.0776  "
            ],
            "text/html": [
              "\n",
              "  <div id=\"df-02a3784f-05f1-44bd-a4c0-927cb60ac1d5\">\n",
              "    <div class=\"colab-df-container\">\n",
              "      <div>\n",
              "<style scoped>\n",
              "    .dataframe tbody tr th:only-of-type {\n",
              "        vertical-align: middle;\n",
              "    }\n",
              "\n",
              "    .dataframe tbody tr th {\n",
              "        vertical-align: top;\n",
              "    }\n",
              "\n",
              "    .dataframe thead th {\n",
              "        text-align: right;\n",
              "    }\n",
              "</style>\n",
              "<table border=\"1\" class=\"dataframe\">\n",
              "  <thead>\n",
              "    <tr style=\"text-align: right;\">\n",
              "      <th></th>\n",
              "      <th>m2</th>\n",
              "      <th>Ano_construccion</th>\n",
              "      <th>n_habitaciones</th>\n",
              "      <th>n_ventanas</th>\n",
              "      <th>n_banos</th>\n",
              "      <th>Precio</th>\n",
              "    </tr>\n",
              "  </thead>\n",
              "  <tbody>\n",
              "    <tr>\n",
              "      <th>144</th>\n",
              "      <td>81.043402</td>\n",
              "      <td>2987</td>\n",
              "      <td>3</td>\n",
              "      <td>3</td>\n",
              "      <td>1</td>\n",
              "      <td>286772.0776</td>\n",
              "    </tr>\n",
              "  </tbody>\n",
              "</table>\n",
              "</div>\n",
              "      <button class=\"colab-df-convert\" onclick=\"convertToInteractive('df-02a3784f-05f1-44bd-a4c0-927cb60ac1d5')\"\n",
              "              title=\"Convert this dataframe to an interactive table.\"\n",
              "              style=\"display:none;\">\n",
              "        \n",
              "  <svg xmlns=\"http://www.w3.org/2000/svg\" height=\"24px\"viewBox=\"0 0 24 24\"\n",
              "       width=\"24px\">\n",
              "    <path d=\"M0 0h24v24H0V0z\" fill=\"none\"/>\n",
              "    <path d=\"M18.56 5.44l.94 2.06.94-2.06 2.06-.94-2.06-.94-.94-2.06-.94 2.06-2.06.94zm-11 1L8.5 8.5l.94-2.06 2.06-.94-2.06-.94L8.5 2.5l-.94 2.06-2.06.94zm10 10l.94 2.06.94-2.06 2.06-.94-2.06-.94-.94-2.06-.94 2.06-2.06.94z\"/><path d=\"M17.41 7.96l-1.37-1.37c-.4-.4-.92-.59-1.43-.59-.52 0-1.04.2-1.43.59L10.3 9.45l-7.72 7.72c-.78.78-.78 2.05 0 2.83L4 21.41c.39.39.9.59 1.41.59.51 0 1.02-.2 1.41-.59l7.78-7.78 2.81-2.81c.8-.78.8-2.07 0-2.86zM5.41 20L4 18.59l7.72-7.72 1.47 1.35L5.41 20z\"/>\n",
              "  </svg>\n",
              "      </button>\n",
              "      \n",
              "  <style>\n",
              "    .colab-df-container {\n",
              "      display:flex;\n",
              "      flex-wrap:wrap;\n",
              "      gap: 12px;\n",
              "    }\n",
              "\n",
              "    .colab-df-convert {\n",
              "      background-color: #E8F0FE;\n",
              "      border: none;\n",
              "      border-radius: 50%;\n",
              "      cursor: pointer;\n",
              "      display: none;\n",
              "      fill: #1967D2;\n",
              "      height: 32px;\n",
              "      padding: 0 0 0 0;\n",
              "      width: 32px;\n",
              "    }\n",
              "\n",
              "    .colab-df-convert:hover {\n",
              "      background-color: #E2EBFA;\n",
              "      box-shadow: 0px 1px 2px rgba(60, 64, 67, 0.3), 0px 1px 3px 1px rgba(60, 64, 67, 0.15);\n",
              "      fill: #174EA6;\n",
              "    }\n",
              "\n",
              "    [theme=dark] .colab-df-convert {\n",
              "      background-color: #3B4455;\n",
              "      fill: #D2E3FC;\n",
              "    }\n",
              "\n",
              "    [theme=dark] .colab-df-convert:hover {\n",
              "      background-color: #434B5C;\n",
              "      box-shadow: 0px 1px 3px 1px rgba(0, 0, 0, 0.15);\n",
              "      filter: drop-shadow(0px 1px 2px rgba(0, 0, 0, 0.3));\n",
              "      fill: #FFFFFF;\n",
              "    }\n",
              "  </style>\n",
              "\n",
              "      <script>\n",
              "        const buttonEl =\n",
              "          document.querySelector('#df-02a3784f-05f1-44bd-a4c0-927cb60ac1d5 button.colab-df-convert');\n",
              "        buttonEl.style.display =\n",
              "          google.colab.kernel.accessAllowed ? 'block' : 'none';\n",
              "\n",
              "        async function convertToInteractive(key) {\n",
              "          const element = document.querySelector('#df-02a3784f-05f1-44bd-a4c0-927cb60ac1d5');\n",
              "          const dataTable =\n",
              "            await google.colab.kernel.invokeFunction('convertToInteractive',\n",
              "                                                     [key], {});\n",
              "          if (!dataTable) return;\n",
              "\n",
              "          const docLinkHtml = 'Like what you see? Visit the ' +\n",
              "            '<a target=\"_blank\" href=https://colab.research.google.com/notebooks/data_table.ipynb>data table notebook</a>'\n",
              "            + ' to learn more about interactive tables.';\n",
              "          element.innerHTML = '';\n",
              "          dataTable['output_type'] = 'display_data';\n",
              "          await google.colab.output.renderOutput(dataTable, element);\n",
              "          const docLink = document.createElement('div');\n",
              "          docLink.innerHTML = docLinkHtml;\n",
              "          element.appendChild(docLink);\n",
              "        }\n",
              "      </script>\n",
              "    </div>\n",
              "  </div>\n",
              "  "
            ]
          },
          "metadata": {},
          "execution_count": 21
        }
      ]
    },
    {
      "cell_type": "markdown",
      "source": [
        "##### Identificación por programación todos los índices de filas que cumplan la condición"
      ],
      "metadata": {
        "id": "0W_QO3AQWwAw"
      }
    },
    {
      "cell_type": "code",
      "source": [
        "ano_mayor_actual= df_resultado[df_resultado[\"Ano_construccion\"]>2022].index\n",
        "ano_mayor_actual"
      ],
      "metadata": {
        "colab": {
          "base_uri": "https://localhost:8080/"
        },
        "id": "BnLoprFAFbyJ",
        "outputId": "1a410770-958b-4775-d0db-de97ce968f8b"
      },
      "execution_count": null,
      "outputs": [
        {
          "output_type": "execute_result",
          "data": {
            "text/plain": [
              "Int64Index([144], dtype='int64')"
            ]
          },
          "metadata": {},
          "execution_count": 22
        }
      ]
    },
    {
      "cell_type": "markdown",
      "source": [
        "##### Captura del promedio de todas las propiedades"
      ],
      "metadata": {
        "id": "woOi5GOpW35e"
      }
    },
    {
      "cell_type": "code",
      "source": [
        "df_resultado[\"Ano_construccion\"].mean()"
      ],
      "metadata": {
        "colab": {
          "base_uri": "https://localhost:8080/"
        },
        "id": "ecBgUG6kHugW",
        "outputId": "a66f74a5-1834-4c6b-854c-b57b716161a9"
      },
      "execution_count": null,
      "outputs": [
        {
          "output_type": "execute_result",
          "data": {
            "text/plain": [
              "1992.6510067114093"
            ]
          },
          "metadata": {},
          "execution_count": 23
        }
      ]
    },
    {
      "cell_type": "markdown",
      "source": [
        "Para que tenga el menor impacto posible en análisis estadísticos, se reemplazará el año de la celda por el promedio de los año. \n",
        "\n",
        "Hemos descartado la opción de eliminar la fila completa, ya que, los demás datos podrían ser utilizados para realizar otros tipos de análisis.\n",
        "\n",
        "Por ejemplo: Análisis de relación entre precio por m2 o planteo de hipótesis en función al n_habitaciones/n_ventanas/n_banos."
      ],
      "metadata": {
        "id": "TwFf5u-eXJIl"
      }
    },
    {
      "cell_type": "code",
      "source": [
        "df_resultado.at[ano_mayor_actual, \"Ano_construccion\"] = df_resultado[\"Ano_construccion\"].mean()\n",
        "df_resultado[144:145]"
      ],
      "metadata": {
        "colab": {
          "base_uri": "https://localhost:8080/"
        },
        "id": "mSfUmdUzEZ9T",
        "outputId": "3779afe9-bfb5-4a17-a96e-55a012c91d0d"
      },
      "execution_count": null,
      "outputs": [
        {
          "output_type": "execute_result",
          "data": {
            "text/plain": [
              "            m2  Ano_construccion  n_habitaciones  n_ventanas  n_banos  \\\n",
              "144  81.043402       1992.651007               3           3        1   \n",
              "\n",
              "          Precio  \n",
              "144  286772.0776  "
            ],
            "text/html": [
              "\n",
              "  <div id=\"df-3cf74192-54e0-4f34-8594-0e5d9e2374df\">\n",
              "    <div class=\"colab-df-container\">\n",
              "      <div>\n",
              "<style scoped>\n",
              "    .dataframe tbody tr th:only-of-type {\n",
              "        vertical-align: middle;\n",
              "    }\n",
              "\n",
              "    .dataframe tbody tr th {\n",
              "        vertical-align: top;\n",
              "    }\n",
              "\n",
              "    .dataframe thead th {\n",
              "        text-align: right;\n",
              "    }\n",
              "</style>\n",
              "<table border=\"1\" class=\"dataframe\">\n",
              "  <thead>\n",
              "    <tr style=\"text-align: right;\">\n",
              "      <th></th>\n",
              "      <th>m2</th>\n",
              "      <th>Ano_construccion</th>\n",
              "      <th>n_habitaciones</th>\n",
              "      <th>n_ventanas</th>\n",
              "      <th>n_banos</th>\n",
              "      <th>Precio</th>\n",
              "    </tr>\n",
              "  </thead>\n",
              "  <tbody>\n",
              "    <tr>\n",
              "      <th>144</th>\n",
              "      <td>81.043402</td>\n",
              "      <td>1992.651007</td>\n",
              "      <td>3</td>\n",
              "      <td>3</td>\n",
              "      <td>1</td>\n",
              "      <td>286772.0776</td>\n",
              "    </tr>\n",
              "  </tbody>\n",
              "</table>\n",
              "</div>\n",
              "      <button class=\"colab-df-convert\" onclick=\"convertToInteractive('df-3cf74192-54e0-4f34-8594-0e5d9e2374df')\"\n",
              "              title=\"Convert this dataframe to an interactive table.\"\n",
              "              style=\"display:none;\">\n",
              "        \n",
              "  <svg xmlns=\"http://www.w3.org/2000/svg\" height=\"24px\"viewBox=\"0 0 24 24\"\n",
              "       width=\"24px\">\n",
              "    <path d=\"M0 0h24v24H0V0z\" fill=\"none\"/>\n",
              "    <path d=\"M18.56 5.44l.94 2.06.94-2.06 2.06-.94-2.06-.94-.94-2.06-.94 2.06-2.06.94zm-11 1L8.5 8.5l.94-2.06 2.06-.94-2.06-.94L8.5 2.5l-.94 2.06-2.06.94zm10 10l.94 2.06.94-2.06 2.06-.94-2.06-.94-.94-2.06-.94 2.06-2.06.94z\"/><path d=\"M17.41 7.96l-1.37-1.37c-.4-.4-.92-.59-1.43-.59-.52 0-1.04.2-1.43.59L10.3 9.45l-7.72 7.72c-.78.78-.78 2.05 0 2.83L4 21.41c.39.39.9.59 1.41.59.51 0 1.02-.2 1.41-.59l7.78-7.78 2.81-2.81c.8-.78.8-2.07 0-2.86zM5.41 20L4 18.59l7.72-7.72 1.47 1.35L5.41 20z\"/>\n",
              "  </svg>\n",
              "      </button>\n",
              "      \n",
              "  <style>\n",
              "    .colab-df-container {\n",
              "      display:flex;\n",
              "      flex-wrap:wrap;\n",
              "      gap: 12px;\n",
              "    }\n",
              "\n",
              "    .colab-df-convert {\n",
              "      background-color: #E8F0FE;\n",
              "      border: none;\n",
              "      border-radius: 50%;\n",
              "      cursor: pointer;\n",
              "      display: none;\n",
              "      fill: #1967D2;\n",
              "      height: 32px;\n",
              "      padding: 0 0 0 0;\n",
              "      width: 32px;\n",
              "    }\n",
              "\n",
              "    .colab-df-convert:hover {\n",
              "      background-color: #E2EBFA;\n",
              "      box-shadow: 0px 1px 2px rgba(60, 64, 67, 0.3), 0px 1px 3px 1px rgba(60, 64, 67, 0.15);\n",
              "      fill: #174EA6;\n",
              "    }\n",
              "\n",
              "    [theme=dark] .colab-df-convert {\n",
              "      background-color: #3B4455;\n",
              "      fill: #D2E3FC;\n",
              "    }\n",
              "\n",
              "    [theme=dark] .colab-df-convert:hover {\n",
              "      background-color: #434B5C;\n",
              "      box-shadow: 0px 1px 3px 1px rgba(0, 0, 0, 0.15);\n",
              "      filter: drop-shadow(0px 1px 2px rgba(0, 0, 0, 0.3));\n",
              "      fill: #FFFFFF;\n",
              "    }\n",
              "  </style>\n",
              "\n",
              "      <script>\n",
              "        const buttonEl =\n",
              "          document.querySelector('#df-3cf74192-54e0-4f34-8594-0e5d9e2374df button.colab-df-convert');\n",
              "        buttonEl.style.display =\n",
              "          google.colab.kernel.accessAllowed ? 'block' : 'none';\n",
              "\n",
              "        async function convertToInteractive(key) {\n",
              "          const element = document.querySelector('#df-3cf74192-54e0-4f34-8594-0e5d9e2374df');\n",
              "          const dataTable =\n",
              "            await google.colab.kernel.invokeFunction('convertToInteractive',\n",
              "                                                     [key], {});\n",
              "          if (!dataTable) return;\n",
              "\n",
              "          const docLinkHtml = 'Like what you see? Visit the ' +\n",
              "            '<a target=\"_blank\" href=https://colab.research.google.com/notebooks/data_table.ipynb>data table notebook</a>'\n",
              "            + ' to learn more about interactive tables.';\n",
              "          element.innerHTML = '';\n",
              "          dataTable['output_type'] = 'display_data';\n",
              "          await google.colab.output.renderOutput(dataTable, element);\n",
              "          const docLink = document.createElement('div');\n",
              "          docLink.innerHTML = docLinkHtml;\n",
              "          element.appendChild(docLink);\n",
              "        }\n",
              "      </script>\n",
              "    </div>\n",
              "  </div>\n",
              "  "
            ]
          },
          "metadata": {},
          "execution_count": 24
        }
      ]
    },
    {
      "cell_type": "markdown",
      "source": [
        "La media ingresada en Ano_construccion es menor a la media de todo el conjunto de datos debido a que, se excluye la fila 144"
      ],
      "metadata": {
        "id": "XP_Uv42OXOp1"
      }
    },
    {
      "cell_type": "markdown",
      "source": [
        "#### Sección: columna n_ventanas"
      ],
      "metadata": {
        "id": "CNHRJaVZZBmL"
      }
    },
    {
      "cell_type": "markdown",
      "source": [
        "Identificación de las propiedades con más de 12 ventanas."
      ],
      "metadata": {
        "id": "0eEi6-v7Z54d"
      }
    },
    {
      "cell_type": "code",
      "source": [
        "df_resultado[df_resultado[\"n_ventanas\"]>12]"
      ],
      "metadata": {
        "colab": {
          "base_uri": "https://localhost:8080/"
        },
        "id": "-YAYc5bvZF_r",
        "outputId": "e2dfa8d0-e030-41b9-e886-8b3992d382d3"
      },
      "execution_count": null,
      "outputs": [
        {
          "output_type": "execute_result",
          "data": {
            "text/plain": [
              "             m2  Ano_construccion  n_habitaciones  n_ventanas  n_banos  \\\n",
              "3    112.140336            2011.0               4          16        1   \n",
              "8    119.917599            2022.0               4          16        3   \n",
              "19   119.814836            1992.0               4          16        3   \n",
              "25   118.050989            1955.0               4          16        4   \n",
              "29   138.295232            1958.0               5          15        3   \n",
              "30   123.297279            1977.0               4          16        2   \n",
              "42   118.730747            1987.0               4          16        1   \n",
              "57   108.655948            1960.0               4          16        4   \n",
              "64   114.521289            2022.0               4          16        1   \n",
              "80   110.915775            1993.0               4          16        3   \n",
              "83   139.330566            2022.0               5          15        3   \n",
              "103  109.022357            1967.0               4          16        1   \n",
              "110  117.552723            1971.0               4          16        3   \n",
              "111  127.006985            2018.0               4          16        1   \n",
              "123  118.841535            2008.0               4         160        2   \n",
              "127  122.361696            1962.0               4          16        2   \n",
              "129  117.992821            1973.0               4          16        2   \n",
              "\n",
              "          Precio  \n",
              "3    394649.8780  \n",
              "8    424328.4246  \n",
              "19   417674.5190  \n",
              "25   403881.9462  \n",
              "29   473868.6137  \n",
              "30   426577.7624  \n",
              "42   412856.4888  \n",
              "57   372689.9017  \n",
              "64   605233.5826  \n",
              "80   386846.4938  \n",
              "83   493021.2075  \n",
              "103  375282.2097  \n",
              "110  405468.7312  \n",
              "111  448525.1676  \n",
              "123  417609.1528  \n",
              "127  420128.8840  \n",
              "129  407399.7117  "
            ],
            "text/html": [
              "\n",
              "  <div id=\"df-a044397f-8acf-48ee-b915-eba8f1566a73\">\n",
              "    <div class=\"colab-df-container\">\n",
              "      <div>\n",
              "<style scoped>\n",
              "    .dataframe tbody tr th:only-of-type {\n",
              "        vertical-align: middle;\n",
              "    }\n",
              "\n",
              "    .dataframe tbody tr th {\n",
              "        vertical-align: top;\n",
              "    }\n",
              "\n",
              "    .dataframe thead th {\n",
              "        text-align: right;\n",
              "    }\n",
              "</style>\n",
              "<table border=\"1\" class=\"dataframe\">\n",
              "  <thead>\n",
              "    <tr style=\"text-align: right;\">\n",
              "      <th></th>\n",
              "      <th>m2</th>\n",
              "      <th>Ano_construccion</th>\n",
              "      <th>n_habitaciones</th>\n",
              "      <th>n_ventanas</th>\n",
              "      <th>n_banos</th>\n",
              "      <th>Precio</th>\n",
              "    </tr>\n",
              "  </thead>\n",
              "  <tbody>\n",
              "    <tr>\n",
              "      <th>3</th>\n",
              "      <td>112.140336</td>\n",
              "      <td>2011.0</td>\n",
              "      <td>4</td>\n",
              "      <td>16</td>\n",
              "      <td>1</td>\n",
              "      <td>394649.8780</td>\n",
              "    </tr>\n",
              "    <tr>\n",
              "      <th>8</th>\n",
              "      <td>119.917599</td>\n",
              "      <td>2022.0</td>\n",
              "      <td>4</td>\n",
              "      <td>16</td>\n",
              "      <td>3</td>\n",
              "      <td>424328.4246</td>\n",
              "    </tr>\n",
              "    <tr>\n",
              "      <th>19</th>\n",
              "      <td>119.814836</td>\n",
              "      <td>1992.0</td>\n",
              "      <td>4</td>\n",
              "      <td>16</td>\n",
              "      <td>3</td>\n",
              "      <td>417674.5190</td>\n",
              "    </tr>\n",
              "    <tr>\n",
              "      <th>25</th>\n",
              "      <td>118.050989</td>\n",
              "      <td>1955.0</td>\n",
              "      <td>4</td>\n",
              "      <td>16</td>\n",
              "      <td>4</td>\n",
              "      <td>403881.9462</td>\n",
              "    </tr>\n",
              "    <tr>\n",
              "      <th>29</th>\n",
              "      <td>138.295232</td>\n",
              "      <td>1958.0</td>\n",
              "      <td>5</td>\n",
              "      <td>15</td>\n",
              "      <td>3</td>\n",
              "      <td>473868.6137</td>\n",
              "    </tr>\n",
              "    <tr>\n",
              "      <th>30</th>\n",
              "      <td>123.297279</td>\n",
              "      <td>1977.0</td>\n",
              "      <td>4</td>\n",
              "      <td>16</td>\n",
              "      <td>2</td>\n",
              "      <td>426577.7624</td>\n",
              "    </tr>\n",
              "    <tr>\n",
              "      <th>42</th>\n",
              "      <td>118.730747</td>\n",
              "      <td>1987.0</td>\n",
              "      <td>4</td>\n",
              "      <td>16</td>\n",
              "      <td>1</td>\n",
              "      <td>412856.4888</td>\n",
              "    </tr>\n",
              "    <tr>\n",
              "      <th>57</th>\n",
              "      <td>108.655948</td>\n",
              "      <td>1960.0</td>\n",
              "      <td>4</td>\n",
              "      <td>16</td>\n",
              "      <td>4</td>\n",
              "      <td>372689.9017</td>\n",
              "    </tr>\n",
              "    <tr>\n",
              "      <th>64</th>\n",
              "      <td>114.521289</td>\n",
              "      <td>2022.0</td>\n",
              "      <td>4</td>\n",
              "      <td>16</td>\n",
              "      <td>1</td>\n",
              "      <td>605233.5826</td>\n",
              "    </tr>\n",
              "    <tr>\n",
              "      <th>80</th>\n",
              "      <td>110.915775</td>\n",
              "      <td>1993.0</td>\n",
              "      <td>4</td>\n",
              "      <td>16</td>\n",
              "      <td>3</td>\n",
              "      <td>386846.4938</td>\n",
              "    </tr>\n",
              "    <tr>\n",
              "      <th>83</th>\n",
              "      <td>139.330566</td>\n",
              "      <td>2022.0</td>\n",
              "      <td>5</td>\n",
              "      <td>15</td>\n",
              "      <td>3</td>\n",
              "      <td>493021.2075</td>\n",
              "    </tr>\n",
              "    <tr>\n",
              "      <th>103</th>\n",
              "      <td>109.022357</td>\n",
              "      <td>1967.0</td>\n",
              "      <td>4</td>\n",
              "      <td>16</td>\n",
              "      <td>1</td>\n",
              "      <td>375282.2097</td>\n",
              "    </tr>\n",
              "    <tr>\n",
              "      <th>110</th>\n",
              "      <td>117.552723</td>\n",
              "      <td>1971.0</td>\n",
              "      <td>4</td>\n",
              "      <td>16</td>\n",
              "      <td>3</td>\n",
              "      <td>405468.7312</td>\n",
              "    </tr>\n",
              "    <tr>\n",
              "      <th>111</th>\n",
              "      <td>127.006985</td>\n",
              "      <td>2018.0</td>\n",
              "      <td>4</td>\n",
              "      <td>16</td>\n",
              "      <td>1</td>\n",
              "      <td>448525.1676</td>\n",
              "    </tr>\n",
              "    <tr>\n",
              "      <th>123</th>\n",
              "      <td>118.841535</td>\n",
              "      <td>2008.0</td>\n",
              "      <td>4</td>\n",
              "      <td>160</td>\n",
              "      <td>2</td>\n",
              "      <td>417609.1528</td>\n",
              "    </tr>\n",
              "    <tr>\n",
              "      <th>127</th>\n",
              "      <td>122.361696</td>\n",
              "      <td>1962.0</td>\n",
              "      <td>4</td>\n",
              "      <td>16</td>\n",
              "      <td>2</td>\n",
              "      <td>420128.8840</td>\n",
              "    </tr>\n",
              "    <tr>\n",
              "      <th>129</th>\n",
              "      <td>117.992821</td>\n",
              "      <td>1973.0</td>\n",
              "      <td>4</td>\n",
              "      <td>16</td>\n",
              "      <td>2</td>\n",
              "      <td>407399.7117</td>\n",
              "    </tr>\n",
              "  </tbody>\n",
              "</table>\n",
              "</div>\n",
              "      <button class=\"colab-df-convert\" onclick=\"convertToInteractive('df-a044397f-8acf-48ee-b915-eba8f1566a73')\"\n",
              "              title=\"Convert this dataframe to an interactive table.\"\n",
              "              style=\"display:none;\">\n",
              "        \n",
              "  <svg xmlns=\"http://www.w3.org/2000/svg\" height=\"24px\"viewBox=\"0 0 24 24\"\n",
              "       width=\"24px\">\n",
              "    <path d=\"M0 0h24v24H0V0z\" fill=\"none\"/>\n",
              "    <path d=\"M18.56 5.44l.94 2.06.94-2.06 2.06-.94-2.06-.94-.94-2.06-.94 2.06-2.06.94zm-11 1L8.5 8.5l.94-2.06 2.06-.94-2.06-.94L8.5 2.5l-.94 2.06-2.06.94zm10 10l.94 2.06.94-2.06 2.06-.94-2.06-.94-.94-2.06-.94 2.06-2.06.94z\"/><path d=\"M17.41 7.96l-1.37-1.37c-.4-.4-.92-.59-1.43-.59-.52 0-1.04.2-1.43.59L10.3 9.45l-7.72 7.72c-.78.78-.78 2.05 0 2.83L4 21.41c.39.39.9.59 1.41.59.51 0 1.02-.2 1.41-.59l7.78-7.78 2.81-2.81c.8-.78.8-2.07 0-2.86zM5.41 20L4 18.59l7.72-7.72 1.47 1.35L5.41 20z\"/>\n",
              "  </svg>\n",
              "      </button>\n",
              "      \n",
              "  <style>\n",
              "    .colab-df-container {\n",
              "      display:flex;\n",
              "      flex-wrap:wrap;\n",
              "      gap: 12px;\n",
              "    }\n",
              "\n",
              "    .colab-df-convert {\n",
              "      background-color: #E8F0FE;\n",
              "      border: none;\n",
              "      border-radius: 50%;\n",
              "      cursor: pointer;\n",
              "      display: none;\n",
              "      fill: #1967D2;\n",
              "      height: 32px;\n",
              "      padding: 0 0 0 0;\n",
              "      width: 32px;\n",
              "    }\n",
              "\n",
              "    .colab-df-convert:hover {\n",
              "      background-color: #E2EBFA;\n",
              "      box-shadow: 0px 1px 2px rgba(60, 64, 67, 0.3), 0px 1px 3px 1px rgba(60, 64, 67, 0.15);\n",
              "      fill: #174EA6;\n",
              "    }\n",
              "\n",
              "    [theme=dark] .colab-df-convert {\n",
              "      background-color: #3B4455;\n",
              "      fill: #D2E3FC;\n",
              "    }\n",
              "\n",
              "    [theme=dark] .colab-df-convert:hover {\n",
              "      background-color: #434B5C;\n",
              "      box-shadow: 0px 1px 3px 1px rgba(0, 0, 0, 0.15);\n",
              "      filter: drop-shadow(0px 1px 2px rgba(0, 0, 0, 0.3));\n",
              "      fill: #FFFFFF;\n",
              "    }\n",
              "  </style>\n",
              "\n",
              "      <script>\n",
              "        const buttonEl =\n",
              "          document.querySelector('#df-a044397f-8acf-48ee-b915-eba8f1566a73 button.colab-df-convert');\n",
              "        buttonEl.style.display =\n",
              "          google.colab.kernel.accessAllowed ? 'block' : 'none';\n",
              "\n",
              "        async function convertToInteractive(key) {\n",
              "          const element = document.querySelector('#df-a044397f-8acf-48ee-b915-eba8f1566a73');\n",
              "          const dataTable =\n",
              "            await google.colab.kernel.invokeFunction('convertToInteractive',\n",
              "                                                     [key], {});\n",
              "          if (!dataTable) return;\n",
              "\n",
              "          const docLinkHtml = 'Like what you see? Visit the ' +\n",
              "            '<a target=\"_blank\" href=https://colab.research.google.com/notebooks/data_table.ipynb>data table notebook</a>'\n",
              "            + ' to learn more about interactive tables.';\n",
              "          element.innerHTML = '';\n",
              "          dataTable['output_type'] = 'display_data';\n",
              "          await google.colab.output.renderOutput(dataTable, element);\n",
              "          const docLink = document.createElement('div');\n",
              "          docLink.innerHTML = docLinkHtml;\n",
              "          element.appendChild(docLink);\n",
              "        }\n",
              "      </script>\n",
              "    </div>\n",
              "  </div>\n",
              "  "
            ]
          },
          "metadata": {},
          "execution_count": 25
        }
      ]
    },
    {
      "cell_type": "markdown",
      "source": [
        "La fila con índice 123 es la única fila que cuenta con 160 ventanas en su propiedad.\n",
        "\n",
        "Visualizando las demás propiedades de 16 ventanas, podemos interpretar que: existe una alta probabilidad de que el valor que se haya querido ingresar realmente era de 16 ventanas (no de 160 ventanas). En un contexto laboral real,y si existiese la posibilidad, reportaríamos esta detección para confirmar de que se tratase de una propiedad de 16 ventanas. Caso contrario y en caso de tratarse de una extensa base de datos, excluiríamos el registro en este análisis.\n",
        "\n",
        "En esta actividad, reemplazaremos el valor de 160 por 16."
      ],
      "metadata": {
        "id": "N8JL8xG_aCmc"
      }
    },
    {
      "cell_type": "markdown",
      "source": [
        "Captura del índice de la propiedad con 160 ventanas:"
      ],
      "metadata": {
        "id": "GpmDs7h5cLIb"
      }
    },
    {
      "cell_type": "code",
      "source": [
        "indice_160_ventanas= df_resultado[df_resultado[\"n_ventanas\"]==160].index\n",
        "indice_160_ventanas"
      ],
      "metadata": {
        "colab": {
          "base_uri": "https://localhost:8080/"
        },
        "id": "SexsXiSJbk8X",
        "outputId": "787e45fe-8bcc-47a9-da52-e25c963f954e"
      },
      "execution_count": null,
      "outputs": [
        {
          "output_type": "execute_result",
          "data": {
            "text/plain": [
              "Int64Index([123], dtype='int64')"
            ]
          },
          "metadata": {},
          "execution_count": 26
        }
      ]
    },
    {
      "cell_type": "markdown",
      "source": [
        "Reemplazo de valor 160 por 16 para la propiedad capturada"
      ],
      "metadata": {
        "id": "6a11JHB1cSgD"
      }
    },
    {
      "cell_type": "code",
      "source": [
        "df_resultado.at[indice_160_ventanas, \"n_ventanas\"] = 16\n",
        "df_resultado[123:124]"
      ],
      "metadata": {
        "colab": {
          "base_uri": "https://localhost:8080/"
        },
        "id": "NUjUGfCJb9Ez",
        "outputId": "55cfb7af-6872-4bcb-d904-1cd639c39a29"
      },
      "execution_count": null,
      "outputs": [
        {
          "output_type": "execute_result",
          "data": {
            "text/plain": [
              "             m2  Ano_construccion  n_habitaciones  n_ventanas  n_banos  \\\n",
              "123  118.841535            2008.0               4          16        2   \n",
              "\n",
              "          Precio  \n",
              "123  417609.1528  "
            ],
            "text/html": [
              "\n",
              "  <div id=\"df-153095f6-043b-4e86-84d4-dfb5839a5739\">\n",
              "    <div class=\"colab-df-container\">\n",
              "      <div>\n",
              "<style scoped>\n",
              "    .dataframe tbody tr th:only-of-type {\n",
              "        vertical-align: middle;\n",
              "    }\n",
              "\n",
              "    .dataframe tbody tr th {\n",
              "        vertical-align: top;\n",
              "    }\n",
              "\n",
              "    .dataframe thead th {\n",
              "        text-align: right;\n",
              "    }\n",
              "</style>\n",
              "<table border=\"1\" class=\"dataframe\">\n",
              "  <thead>\n",
              "    <tr style=\"text-align: right;\">\n",
              "      <th></th>\n",
              "      <th>m2</th>\n",
              "      <th>Ano_construccion</th>\n",
              "      <th>n_habitaciones</th>\n",
              "      <th>n_ventanas</th>\n",
              "      <th>n_banos</th>\n",
              "      <th>Precio</th>\n",
              "    </tr>\n",
              "  </thead>\n",
              "  <tbody>\n",
              "    <tr>\n",
              "      <th>123</th>\n",
              "      <td>118.841535</td>\n",
              "      <td>2008.0</td>\n",
              "      <td>4</td>\n",
              "      <td>16</td>\n",
              "      <td>2</td>\n",
              "      <td>417609.1528</td>\n",
              "    </tr>\n",
              "  </tbody>\n",
              "</table>\n",
              "</div>\n",
              "      <button class=\"colab-df-convert\" onclick=\"convertToInteractive('df-153095f6-043b-4e86-84d4-dfb5839a5739')\"\n",
              "              title=\"Convert this dataframe to an interactive table.\"\n",
              "              style=\"display:none;\">\n",
              "        \n",
              "  <svg xmlns=\"http://www.w3.org/2000/svg\" height=\"24px\"viewBox=\"0 0 24 24\"\n",
              "       width=\"24px\">\n",
              "    <path d=\"M0 0h24v24H0V0z\" fill=\"none\"/>\n",
              "    <path d=\"M18.56 5.44l.94 2.06.94-2.06 2.06-.94-2.06-.94-.94-2.06-.94 2.06-2.06.94zm-11 1L8.5 8.5l.94-2.06 2.06-.94-2.06-.94L8.5 2.5l-.94 2.06-2.06.94zm10 10l.94 2.06.94-2.06 2.06-.94-2.06-.94-.94-2.06-.94 2.06-2.06.94z\"/><path d=\"M17.41 7.96l-1.37-1.37c-.4-.4-.92-.59-1.43-.59-.52 0-1.04.2-1.43.59L10.3 9.45l-7.72 7.72c-.78.78-.78 2.05 0 2.83L4 21.41c.39.39.9.59 1.41.59.51 0 1.02-.2 1.41-.59l7.78-7.78 2.81-2.81c.8-.78.8-2.07 0-2.86zM5.41 20L4 18.59l7.72-7.72 1.47 1.35L5.41 20z\"/>\n",
              "  </svg>\n",
              "      </button>\n",
              "      \n",
              "  <style>\n",
              "    .colab-df-container {\n",
              "      display:flex;\n",
              "      flex-wrap:wrap;\n",
              "      gap: 12px;\n",
              "    }\n",
              "\n",
              "    .colab-df-convert {\n",
              "      background-color: #E8F0FE;\n",
              "      border: none;\n",
              "      border-radius: 50%;\n",
              "      cursor: pointer;\n",
              "      display: none;\n",
              "      fill: #1967D2;\n",
              "      height: 32px;\n",
              "      padding: 0 0 0 0;\n",
              "      width: 32px;\n",
              "    }\n",
              "\n",
              "    .colab-df-convert:hover {\n",
              "      background-color: #E2EBFA;\n",
              "      box-shadow: 0px 1px 2px rgba(60, 64, 67, 0.3), 0px 1px 3px 1px rgba(60, 64, 67, 0.15);\n",
              "      fill: #174EA6;\n",
              "    }\n",
              "\n",
              "    [theme=dark] .colab-df-convert {\n",
              "      background-color: #3B4455;\n",
              "      fill: #D2E3FC;\n",
              "    }\n",
              "\n",
              "    [theme=dark] .colab-df-convert:hover {\n",
              "      background-color: #434B5C;\n",
              "      box-shadow: 0px 1px 3px 1px rgba(0, 0, 0, 0.15);\n",
              "      filter: drop-shadow(0px 1px 2px rgba(0, 0, 0, 0.3));\n",
              "      fill: #FFFFFF;\n",
              "    }\n",
              "  </style>\n",
              "\n",
              "      <script>\n",
              "        const buttonEl =\n",
              "          document.querySelector('#df-153095f6-043b-4e86-84d4-dfb5839a5739 button.colab-df-convert');\n",
              "        buttonEl.style.display =\n",
              "          google.colab.kernel.accessAllowed ? 'block' : 'none';\n",
              "\n",
              "        async function convertToInteractive(key) {\n",
              "          const element = document.querySelector('#df-153095f6-043b-4e86-84d4-dfb5839a5739');\n",
              "          const dataTable =\n",
              "            await google.colab.kernel.invokeFunction('convertToInteractive',\n",
              "                                                     [key], {});\n",
              "          if (!dataTable) return;\n",
              "\n",
              "          const docLinkHtml = 'Like what you see? Visit the ' +\n",
              "            '<a target=\"_blank\" href=https://colab.research.google.com/notebooks/data_table.ipynb>data table notebook</a>'\n",
              "            + ' to learn more about interactive tables.';\n",
              "          element.innerHTML = '';\n",
              "          dataTable['output_type'] = 'display_data';\n",
              "          await google.colab.output.renderOutput(dataTable, element);\n",
              "          const docLink = document.createElement('div');\n",
              "          docLink.innerHTML = docLinkHtml;\n",
              "          element.appendChild(docLink);\n",
              "        }\n",
              "      </script>\n",
              "    </div>\n",
              "  </div>\n",
              "  "
            ]
          },
          "metadata": {},
          "execution_count": 27
        }
      ]
    },
    {
      "cell_type": "markdown",
      "source": [
        "### **Comparativa entre df_original y df_resultado**"
      ],
      "metadata": {
        "id": "J4faJW7HXhX2"
      }
    },
    {
      "cell_type": "code",
      "source": [
        "df_original.describe()"
      ],
      "metadata": {
        "colab": {
          "base_uri": "https://localhost:8080/",
          "height": 300
        },
        "id": "Q7_MGJZVI_a2",
        "outputId": "e70f9569-3ad8-4202-b214-dea8b4f6d57e"
      },
      "execution_count": null,
      "outputs": [
        {
          "output_type": "execute_result",
          "data": {
            "text/plain": [
              "               m2  Ano_construccion  n_habitaciones  n_ventanas     n_banos  \\\n",
              "count  149.000000        149.000000      149.000000  149.000000  149.000000   \n",
              "mean    96.952059       1992.651007        3.174497    9.248322    1.697987   \n",
              "std     21.221602         86.165768        0.723463   13.114313    0.859798   \n",
              "min    -22.301393       1887.000000        1.000000    2.000000    1.000000   \n",
              "25%     84.709784       1966.000000        3.000000    4.000000    1.000000   \n",
              "50%     95.919298       1987.000000        3.000000    8.000000    1.000000   \n",
              "75%    111.415418       2010.000000        4.000000   12.000000    2.000000   \n",
              "max    144.855824       2987.000000        5.000000  160.000000    4.000000   \n",
              "\n",
              "              Precio  \n",
              "count     149.000000  \n",
              "mean   339349.852152  \n",
              "std     71441.876826  \n",
              "min    100901.666500  \n",
              "25%    292308.157700  \n",
              "50%    334774.486700  \n",
              "75%    388340.087400  \n",
              "max    605233.582600  "
            ],
            "text/html": [
              "\n",
              "  <div id=\"df-0350232b-2b98-4e49-bc41-2885bec66577\">\n",
              "    <div class=\"colab-df-container\">\n",
              "      <div>\n",
              "<style scoped>\n",
              "    .dataframe tbody tr th:only-of-type {\n",
              "        vertical-align: middle;\n",
              "    }\n",
              "\n",
              "    .dataframe tbody tr th {\n",
              "        vertical-align: top;\n",
              "    }\n",
              "\n",
              "    .dataframe thead th {\n",
              "        text-align: right;\n",
              "    }\n",
              "</style>\n",
              "<table border=\"1\" class=\"dataframe\">\n",
              "  <thead>\n",
              "    <tr style=\"text-align: right;\">\n",
              "      <th></th>\n",
              "      <th>m2</th>\n",
              "      <th>Ano_construccion</th>\n",
              "      <th>n_habitaciones</th>\n",
              "      <th>n_ventanas</th>\n",
              "      <th>n_banos</th>\n",
              "      <th>Precio</th>\n",
              "    </tr>\n",
              "  </thead>\n",
              "  <tbody>\n",
              "    <tr>\n",
              "      <th>count</th>\n",
              "      <td>149.000000</td>\n",
              "      <td>149.000000</td>\n",
              "      <td>149.000000</td>\n",
              "      <td>149.000000</td>\n",
              "      <td>149.000000</td>\n",
              "      <td>149.000000</td>\n",
              "    </tr>\n",
              "    <tr>\n",
              "      <th>mean</th>\n",
              "      <td>96.952059</td>\n",
              "      <td>1992.651007</td>\n",
              "      <td>3.174497</td>\n",
              "      <td>9.248322</td>\n",
              "      <td>1.697987</td>\n",
              "      <td>339349.852152</td>\n",
              "    </tr>\n",
              "    <tr>\n",
              "      <th>std</th>\n",
              "      <td>21.221602</td>\n",
              "      <td>86.165768</td>\n",
              "      <td>0.723463</td>\n",
              "      <td>13.114313</td>\n",
              "      <td>0.859798</td>\n",
              "      <td>71441.876826</td>\n",
              "    </tr>\n",
              "    <tr>\n",
              "      <th>min</th>\n",
              "      <td>-22.301393</td>\n",
              "      <td>1887.000000</td>\n",
              "      <td>1.000000</td>\n",
              "      <td>2.000000</td>\n",
              "      <td>1.000000</td>\n",
              "      <td>100901.666500</td>\n",
              "    </tr>\n",
              "    <tr>\n",
              "      <th>25%</th>\n",
              "      <td>84.709784</td>\n",
              "      <td>1966.000000</td>\n",
              "      <td>3.000000</td>\n",
              "      <td>4.000000</td>\n",
              "      <td>1.000000</td>\n",
              "      <td>292308.157700</td>\n",
              "    </tr>\n",
              "    <tr>\n",
              "      <th>50%</th>\n",
              "      <td>95.919298</td>\n",
              "      <td>1987.000000</td>\n",
              "      <td>3.000000</td>\n",
              "      <td>8.000000</td>\n",
              "      <td>1.000000</td>\n",
              "      <td>334774.486700</td>\n",
              "    </tr>\n",
              "    <tr>\n",
              "      <th>75%</th>\n",
              "      <td>111.415418</td>\n",
              "      <td>2010.000000</td>\n",
              "      <td>4.000000</td>\n",
              "      <td>12.000000</td>\n",
              "      <td>2.000000</td>\n",
              "      <td>388340.087400</td>\n",
              "    </tr>\n",
              "    <tr>\n",
              "      <th>max</th>\n",
              "      <td>144.855824</td>\n",
              "      <td>2987.000000</td>\n",
              "      <td>5.000000</td>\n",
              "      <td>160.000000</td>\n",
              "      <td>4.000000</td>\n",
              "      <td>605233.582600</td>\n",
              "    </tr>\n",
              "  </tbody>\n",
              "</table>\n",
              "</div>\n",
              "      <button class=\"colab-df-convert\" onclick=\"convertToInteractive('df-0350232b-2b98-4e49-bc41-2885bec66577')\"\n",
              "              title=\"Convert this dataframe to an interactive table.\"\n",
              "              style=\"display:none;\">\n",
              "        \n",
              "  <svg xmlns=\"http://www.w3.org/2000/svg\" height=\"24px\"viewBox=\"0 0 24 24\"\n",
              "       width=\"24px\">\n",
              "    <path d=\"M0 0h24v24H0V0z\" fill=\"none\"/>\n",
              "    <path d=\"M18.56 5.44l.94 2.06.94-2.06 2.06-.94-2.06-.94-.94-2.06-.94 2.06-2.06.94zm-11 1L8.5 8.5l.94-2.06 2.06-.94-2.06-.94L8.5 2.5l-.94 2.06-2.06.94zm10 10l.94 2.06.94-2.06 2.06-.94-2.06-.94-.94-2.06-.94 2.06-2.06.94z\"/><path d=\"M17.41 7.96l-1.37-1.37c-.4-.4-.92-.59-1.43-.59-.52 0-1.04.2-1.43.59L10.3 9.45l-7.72 7.72c-.78.78-.78 2.05 0 2.83L4 21.41c.39.39.9.59 1.41.59.51 0 1.02-.2 1.41-.59l7.78-7.78 2.81-2.81c.8-.78.8-2.07 0-2.86zM5.41 20L4 18.59l7.72-7.72 1.47 1.35L5.41 20z\"/>\n",
              "  </svg>\n",
              "      </button>\n",
              "      \n",
              "  <style>\n",
              "    .colab-df-container {\n",
              "      display:flex;\n",
              "      flex-wrap:wrap;\n",
              "      gap: 12px;\n",
              "    }\n",
              "\n",
              "    .colab-df-convert {\n",
              "      background-color: #E8F0FE;\n",
              "      border: none;\n",
              "      border-radius: 50%;\n",
              "      cursor: pointer;\n",
              "      display: none;\n",
              "      fill: #1967D2;\n",
              "      height: 32px;\n",
              "      padding: 0 0 0 0;\n",
              "      width: 32px;\n",
              "    }\n",
              "\n",
              "    .colab-df-convert:hover {\n",
              "      background-color: #E2EBFA;\n",
              "      box-shadow: 0px 1px 2px rgba(60, 64, 67, 0.3), 0px 1px 3px 1px rgba(60, 64, 67, 0.15);\n",
              "      fill: #174EA6;\n",
              "    }\n",
              "\n",
              "    [theme=dark] .colab-df-convert {\n",
              "      background-color: #3B4455;\n",
              "      fill: #D2E3FC;\n",
              "    }\n",
              "\n",
              "    [theme=dark] .colab-df-convert:hover {\n",
              "      background-color: #434B5C;\n",
              "      box-shadow: 0px 1px 3px 1px rgba(0, 0, 0, 0.15);\n",
              "      filter: drop-shadow(0px 1px 2px rgba(0, 0, 0, 0.3));\n",
              "      fill: #FFFFFF;\n",
              "    }\n",
              "  </style>\n",
              "\n",
              "      <script>\n",
              "        const buttonEl =\n",
              "          document.querySelector('#df-0350232b-2b98-4e49-bc41-2885bec66577 button.colab-df-convert');\n",
              "        buttonEl.style.display =\n",
              "          google.colab.kernel.accessAllowed ? 'block' : 'none';\n",
              "\n",
              "        async function convertToInteractive(key) {\n",
              "          const element = document.querySelector('#df-0350232b-2b98-4e49-bc41-2885bec66577');\n",
              "          const dataTable =\n",
              "            await google.colab.kernel.invokeFunction('convertToInteractive',\n",
              "                                                     [key], {});\n",
              "          if (!dataTable) return;\n",
              "\n",
              "          const docLinkHtml = 'Like what you see? Visit the ' +\n",
              "            '<a target=\"_blank\" href=https://colab.research.google.com/notebooks/data_table.ipynb>data table notebook</a>'\n",
              "            + ' to learn more about interactive tables.';\n",
              "          element.innerHTML = '';\n",
              "          dataTable['output_type'] = 'display_data';\n",
              "          await google.colab.output.renderOutput(dataTable, element);\n",
              "          const docLink = document.createElement('div');\n",
              "          docLink.innerHTML = docLinkHtml;\n",
              "          element.appendChild(docLink);\n",
              "        }\n",
              "      </script>\n",
              "    </div>\n",
              "  </div>\n",
              "  "
            ]
          },
          "metadata": {},
          "execution_count": 28
        }
      ]
    },
    {
      "cell_type": "code",
      "source": [
        "df_resultado.describe()"
      ],
      "metadata": {
        "colab": {
          "base_uri": "https://localhost:8080/",
          "height": 300
        },
        "id": "kDLDXo3JuQ-A",
        "outputId": "017fc0b3-cc63-4838-d91d-89327a61f47a"
      },
      "execution_count": null,
      "outputs": [
        {
          "output_type": "execute_result",
          "data": {
            "text/plain": [
              "               m2  Ano_construccion  n_habitaciones  n_ventanas     n_banos  \\\n",
              "count  149.000000        149.000000      149.000000  149.000000  149.000000   \n",
              "mean    97.684844       1985.977524        3.174497    8.281879    1.697987   \n",
              "std     18.825789         26.440418        0.723463    4.218813    0.859798   \n",
              "min     41.650186       1887.000000        1.000000    2.000000    1.000000   \n",
              "25%     84.831505       1966.000000        3.000000    4.000000    1.000000   \n",
              "50%     95.919298       1987.000000        3.000000    8.000000    1.000000   \n",
              "75%    111.415418       2009.000000        4.000000   12.000000    2.000000   \n",
              "max    144.855824       2022.000000        5.000000   16.000000    4.000000   \n",
              "\n",
              "              Precio  \n",
              "count     149.000000  \n",
              "mean   339349.852152  \n",
              "std     71441.876826  \n",
              "min    100901.666500  \n",
              "25%    292308.157700  \n",
              "50%    334774.486700  \n",
              "75%    388340.087400  \n",
              "max    605233.582600  "
            ],
            "text/html": [
              "\n",
              "  <div id=\"df-bba43798-541b-4016-bcb2-c912525204bf\">\n",
              "    <div class=\"colab-df-container\">\n",
              "      <div>\n",
              "<style scoped>\n",
              "    .dataframe tbody tr th:only-of-type {\n",
              "        vertical-align: middle;\n",
              "    }\n",
              "\n",
              "    .dataframe tbody tr th {\n",
              "        vertical-align: top;\n",
              "    }\n",
              "\n",
              "    .dataframe thead th {\n",
              "        text-align: right;\n",
              "    }\n",
              "</style>\n",
              "<table border=\"1\" class=\"dataframe\">\n",
              "  <thead>\n",
              "    <tr style=\"text-align: right;\">\n",
              "      <th></th>\n",
              "      <th>m2</th>\n",
              "      <th>Ano_construccion</th>\n",
              "      <th>n_habitaciones</th>\n",
              "      <th>n_ventanas</th>\n",
              "      <th>n_banos</th>\n",
              "      <th>Precio</th>\n",
              "    </tr>\n",
              "  </thead>\n",
              "  <tbody>\n",
              "    <tr>\n",
              "      <th>count</th>\n",
              "      <td>149.000000</td>\n",
              "      <td>149.000000</td>\n",
              "      <td>149.000000</td>\n",
              "      <td>149.000000</td>\n",
              "      <td>149.000000</td>\n",
              "      <td>149.000000</td>\n",
              "    </tr>\n",
              "    <tr>\n",
              "      <th>mean</th>\n",
              "      <td>97.684844</td>\n",
              "      <td>1985.977524</td>\n",
              "      <td>3.174497</td>\n",
              "      <td>8.281879</td>\n",
              "      <td>1.697987</td>\n",
              "      <td>339349.852152</td>\n",
              "    </tr>\n",
              "    <tr>\n",
              "      <th>std</th>\n",
              "      <td>18.825789</td>\n",
              "      <td>26.440418</td>\n",
              "      <td>0.723463</td>\n",
              "      <td>4.218813</td>\n",
              "      <td>0.859798</td>\n",
              "      <td>71441.876826</td>\n",
              "    </tr>\n",
              "    <tr>\n",
              "      <th>min</th>\n",
              "      <td>41.650186</td>\n",
              "      <td>1887.000000</td>\n",
              "      <td>1.000000</td>\n",
              "      <td>2.000000</td>\n",
              "      <td>1.000000</td>\n",
              "      <td>100901.666500</td>\n",
              "    </tr>\n",
              "    <tr>\n",
              "      <th>25%</th>\n",
              "      <td>84.831505</td>\n",
              "      <td>1966.000000</td>\n",
              "      <td>3.000000</td>\n",
              "      <td>4.000000</td>\n",
              "      <td>1.000000</td>\n",
              "      <td>292308.157700</td>\n",
              "    </tr>\n",
              "    <tr>\n",
              "      <th>50%</th>\n",
              "      <td>95.919298</td>\n",
              "      <td>1987.000000</td>\n",
              "      <td>3.000000</td>\n",
              "      <td>8.000000</td>\n",
              "      <td>1.000000</td>\n",
              "      <td>334774.486700</td>\n",
              "    </tr>\n",
              "    <tr>\n",
              "      <th>75%</th>\n",
              "      <td>111.415418</td>\n",
              "      <td>2009.000000</td>\n",
              "      <td>4.000000</td>\n",
              "      <td>12.000000</td>\n",
              "      <td>2.000000</td>\n",
              "      <td>388340.087400</td>\n",
              "    </tr>\n",
              "    <tr>\n",
              "      <th>max</th>\n",
              "      <td>144.855824</td>\n",
              "      <td>2022.000000</td>\n",
              "      <td>5.000000</td>\n",
              "      <td>16.000000</td>\n",
              "      <td>4.000000</td>\n",
              "      <td>605233.582600</td>\n",
              "    </tr>\n",
              "  </tbody>\n",
              "</table>\n",
              "</div>\n",
              "      <button class=\"colab-df-convert\" onclick=\"convertToInteractive('df-bba43798-541b-4016-bcb2-c912525204bf')\"\n",
              "              title=\"Convert this dataframe to an interactive table.\"\n",
              "              style=\"display:none;\">\n",
              "        \n",
              "  <svg xmlns=\"http://www.w3.org/2000/svg\" height=\"24px\"viewBox=\"0 0 24 24\"\n",
              "       width=\"24px\">\n",
              "    <path d=\"M0 0h24v24H0V0z\" fill=\"none\"/>\n",
              "    <path d=\"M18.56 5.44l.94 2.06.94-2.06 2.06-.94-2.06-.94-.94-2.06-.94 2.06-2.06.94zm-11 1L8.5 8.5l.94-2.06 2.06-.94-2.06-.94L8.5 2.5l-.94 2.06-2.06.94zm10 10l.94 2.06.94-2.06 2.06-.94-2.06-.94-.94-2.06-.94 2.06-2.06.94z\"/><path d=\"M17.41 7.96l-1.37-1.37c-.4-.4-.92-.59-1.43-.59-.52 0-1.04.2-1.43.59L10.3 9.45l-7.72 7.72c-.78.78-.78 2.05 0 2.83L4 21.41c.39.39.9.59 1.41.59.51 0 1.02-.2 1.41-.59l7.78-7.78 2.81-2.81c.8-.78.8-2.07 0-2.86zM5.41 20L4 18.59l7.72-7.72 1.47 1.35L5.41 20z\"/>\n",
              "  </svg>\n",
              "      </button>\n",
              "      \n",
              "  <style>\n",
              "    .colab-df-container {\n",
              "      display:flex;\n",
              "      flex-wrap:wrap;\n",
              "      gap: 12px;\n",
              "    }\n",
              "\n",
              "    .colab-df-convert {\n",
              "      background-color: #E8F0FE;\n",
              "      border: none;\n",
              "      border-radius: 50%;\n",
              "      cursor: pointer;\n",
              "      display: none;\n",
              "      fill: #1967D2;\n",
              "      height: 32px;\n",
              "      padding: 0 0 0 0;\n",
              "      width: 32px;\n",
              "    }\n",
              "\n",
              "    .colab-df-convert:hover {\n",
              "      background-color: #E2EBFA;\n",
              "      box-shadow: 0px 1px 2px rgba(60, 64, 67, 0.3), 0px 1px 3px 1px rgba(60, 64, 67, 0.15);\n",
              "      fill: #174EA6;\n",
              "    }\n",
              "\n",
              "    [theme=dark] .colab-df-convert {\n",
              "      background-color: #3B4455;\n",
              "      fill: #D2E3FC;\n",
              "    }\n",
              "\n",
              "    [theme=dark] .colab-df-convert:hover {\n",
              "      background-color: #434B5C;\n",
              "      box-shadow: 0px 1px 3px 1px rgba(0, 0, 0, 0.15);\n",
              "      filter: drop-shadow(0px 1px 2px rgba(0, 0, 0, 0.3));\n",
              "      fill: #FFFFFF;\n",
              "    }\n",
              "  </style>\n",
              "\n",
              "      <script>\n",
              "        const buttonEl =\n",
              "          document.querySelector('#df-bba43798-541b-4016-bcb2-c912525204bf button.colab-df-convert');\n",
              "        buttonEl.style.display =\n",
              "          google.colab.kernel.accessAllowed ? 'block' : 'none';\n",
              "\n",
              "        async function convertToInteractive(key) {\n",
              "          const element = document.querySelector('#df-bba43798-541b-4016-bcb2-c912525204bf');\n",
              "          const dataTable =\n",
              "            await google.colab.kernel.invokeFunction('convertToInteractive',\n",
              "                                                     [key], {});\n",
              "          if (!dataTable) return;\n",
              "\n",
              "          const docLinkHtml = 'Like what you see? Visit the ' +\n",
              "            '<a target=\"_blank\" href=https://colab.research.google.com/notebooks/data_table.ipynb>data table notebook</a>'\n",
              "            + ' to learn more about interactive tables.';\n",
              "          element.innerHTML = '';\n",
              "          dataTable['output_type'] = 'display_data';\n",
              "          await google.colab.output.renderOutput(dataTable, element);\n",
              "          const docLink = document.createElement('div');\n",
              "          docLink.innerHTML = docLinkHtml;\n",
              "          element.appendChild(docLink);\n",
              "        }\n",
              "      </script>\n",
              "    </div>\n",
              "  </div>\n",
              "  "
            ]
          },
          "metadata": {},
          "execution_count": 29
        }
      ]
    },
    {
      "cell_type": "markdown",
      "source": [
        "#### Distribución antes de los cambios realizados"
      ],
      "metadata": {
        "id": "CRWyGr3dcyHc"
      }
    },
    {
      "cell_type": "code",
      "source": [
        "#Distribución pre-cambios\n",
        "sns.displot(df_original[\"m2\"])\n",
        "plt.show()"
      ],
      "metadata": {
        "colab": {
          "base_uri": "https://localhost:8080/"
        },
        "id": "cvChRc1qJZN2",
        "outputId": "6cb25ba3-712b-4b3c-dabd-573e7d350303"
      },
      "execution_count": null,
      "outputs": [
        {
          "output_type": "display_data",
          "data": {
            "text/plain": [
              "<Figure size 360x360 with 1 Axes>"
            ],
            "image/png": "[encoded data removed]"
          },
          "metadata": {
            "needs_background": "light"
          }
        }
      ]
    },
    {
      "cell_type": "code",
      "source": [
        "#Distribución pre-cambios\n",
        "sns.displot(df_original[\"Ano_construccion\"])\n",
        "plt.show()"
      ],
      "metadata": {
        "colab": {
          "base_uri": "https://localhost:8080/"
        },
        "id": "m1nJTMBYKpEg",
        "outputId": "ab33bc2b-c39d-4bed-c895-835107ddc0cc"
      },
      "execution_count": null,
      "outputs": [
        {
          "output_type": "display_data",
          "data": {
            "text/plain": [
              "<Figure size 360x360 with 1 Axes>"
            ],
            "image/png": "[encoded data removed]"
          },
          "metadata": {
            "needs_background": "light"
          }
        }
      ]
    },
    {
      "cell_type": "code",
      "source": [
        "sns.displot(df_original[\"n_ventanas\"])\n",
        "plt.show()"
      ],
      "metadata": {
        "colab": {
          "base_uri": "https://localhost:8080/"
        },
        "id": "4yeD3ylmclMF",
        "outputId": "15dcd708-e292-473d-8278-a5f352887fba"
      },
      "execution_count": null,
      "outputs": [
        {
          "output_type": "display_data",
          "data": {
            "text/plain": [
              "<Figure size 360x360 with 1 Axes>"
            ],
            "image/png": "[encoded data removed]"
          },
          "metadata": {
            "needs_background": "light"
          }
        }
      ]
    },
    {
      "cell_type": "markdown",
      "source": [
        "#### Distribución luego de los cambios realizados"
      ],
      "metadata": {
        "id": "2i4TxHxudA0p"
      }
    },
    {
      "cell_type": "code",
      "source": [
        "sns.displot(df_resultado[\"m2\"])\n",
        "plt.show()"
      ],
      "metadata": {
        "colab": {
          "base_uri": "https://localhost:8080/",
          "height": 369
        },
        "id": "ArLv16ZJJLMU",
        "outputId": "a77a8c74-4080-479d-c0d0-b7a9c884f27d"
      },
      "execution_count": null,
      "outputs": [
        {
          "output_type": "display_data",
          "data": {
            "text/plain": [
              "<Figure size 360x360 with 1 Axes>"
            ],
            "image/png": "[encoded data removed]"
          },
          "metadata": {
            "needs_background": "light"
          }
        }
      ]
    },
    {
      "cell_type": "code",
      "source": [
        "sns.displot(df_resultado[\"Ano_construccion\"])\n",
        "plt.show()"
      ],
      "metadata": {
        "colab": {
          "base_uri": "https://localhost:8080/",
          "height": 369
        },
        "id": "s3SslyfQJQJM",
        "outputId": "f6cd94c2-e70b-4206-a763-7d97d6907925"
      },
      "execution_count": null,
      "outputs": [
        {
          "output_type": "display_data",
          "data": {
            "text/plain": [
              "<Figure size 360x360 with 1 Axes>"
            ],
            "image/png": "[encoded data removed]"
          },
          "metadata": {
            "needs_background": "light"
          }
        }
      ]
    },
    {
      "cell_type": "code",
      "source": [
        "sns.displot(df_resultado[\"n_ventanas\"])\n",
        "plt.show()"
      ],
      "metadata": {
        "colab": {
          "base_uri": "https://localhost:8080/",
          "height": 369
        },
        "id": "aZPFsVf0ch2L",
        "outputId": "2cb280bb-56df-46f5-d2a5-067645209043"
      },
      "execution_count": null,
      "outputs": [
        {
          "output_type": "display_data",
          "data": {
            "text/plain": [
              "<Figure size 360x360 with 1 Axes>"
            ],
            "image/png": "[encoded data removed]"
          },
          "metadata": {
            "needs_background": "light"
          }
        }
      ]
    },
    {
      "cell_type": "code",
      "source": [
        "df_resultado"
      ],
      "metadata": {
        "colab": {
          "base_uri": "https://localhost:8080/",
          "height": 423
        },
        "id": "RZ9WsIJZdepJ",
        "outputId": "4542bc94-8628-4568-a862-2e0cb2e5b10e"
      },
      "execution_count": null,
      "outputs": [
        {
          "output_type": "execute_result",
          "data": {
            "text/plain": [
              "             m2  Ano_construccion  n_habitaciones  n_ventanas  n_banos  \\\n",
              "0     87.912100       1947.000000               3           6        2   \n",
              "1     85.315972       2022.000000               3           6        1   \n",
              "2     78.376723       1961.000000               2           6        1   \n",
              "3    112.140336       2011.000000               4          16        1   \n",
              "4    107.020064       1968.000000               3           3        1   \n",
              "..          ...               ...             ...         ...      ...   \n",
              "144   81.043402       1992.651007               3           3        1   \n",
              "145  112.618247       1977.000000               4           4        3   \n",
              "146   83.472145       1967.000000               3           3        1   \n",
              "147  119.494330       1964.000000               4          12        2   \n",
              "148  102.214961       1962.000000               3           3        1   \n",
              "\n",
              "          Precio  \n",
              "0    299538.5044  \n",
              "1    301890.5662  \n",
              "2    268969.3187  \n",
              "3    394649.8780  \n",
              "4    368577.0992  \n",
              "..           ...  \n",
              "144  286772.0776  \n",
              "145  389630.9806  \n",
              "146  287331.9925  \n",
              "147  410702.0110  \n",
              "148  350955.0676  \n",
              "\n",
              "[149 rows x 6 columns]"
            ],
            "text/html": [
              "\n",
              "  <div id=\"df-8ca2350e-9647-46c0-8691-50676603eff9\">\n",
              "    <div class=\"colab-df-container\">\n",
              "      <div>\n",
              "<style scoped>\n",
              "    .dataframe tbody tr th:only-of-type {\n",
              "        vertical-align: middle;\n",
              "    }\n",
              "\n",
              "    .dataframe tbody tr th {\n",
              "        vertical-align: top;\n",
              "    }\n",
              "\n",
              "    .dataframe thead th {\n",
              "        text-align: right;\n",
              "    }\n",
              "</style>\n",
              "<table border=\"1\" class=\"dataframe\">\n",
              "  <thead>\n",
              "    <tr style=\"text-align: right;\">\n",
              "      <th></th>\n",
              "      <th>m2</th>\n",
              "      <th>Ano_construccion</th>\n",
              "      <th>n_habitaciones</th>\n",
              "      <th>n_ventanas</th>\n",
              "      <th>n_banos</th>\n",
              "      <th>Precio</th>\n",
              "    </tr>\n",
              "  </thead>\n",
              "  <tbody>\n",
              "    <tr>\n",
              "      <th>0</th>\n",
              "      <td>87.912100</td>\n",
              "      <td>1947.000000</td>\n",
              "      <td>3</td>\n",
              "      <td>6</td>\n",
              "      <td>2</td>\n",
              "      <td>299538.5044</td>\n",
              "    </tr>\n",
              "    <tr>\n",
              "      <th>1</th>\n",
              "      <td>85.315972</td>\n",
              "      <td>2022.000000</td>\n",
              "      <td>3</td>\n",
              "      <td>6</td>\n",
              "      <td>1</td>\n",
              "      <td>301890.5662</td>\n",
              "    </tr>\n",
              "    <tr>\n",
              "      <th>2</th>\n",
              "      <td>78.376723</td>\n",
              "      <td>1961.000000</td>\n",
              "      <td>2</td>\n",
              "      <td>6</td>\n",
              "      <td>1</td>\n",
              "      <td>268969.3187</td>\n",
              "    </tr>\n",
              "    <tr>\n",
              "      <th>3</th>\n",
              "      <td>112.140336</td>\n",
              "      <td>2011.000000</td>\n",
              "      <td>4</td>\n",
              "      <td>16</td>\n",
              "      <td>1</td>\n",
              "      <td>394649.8780</td>\n",
              "    </tr>\n",
              "    <tr>\n",
              "      <th>4</th>\n",
              "      <td>107.020064</td>\n",
              "      <td>1968.000000</td>\n",
              "      <td>3</td>\n",
              "      <td>3</td>\n",
              "      <td>1</td>\n",
              "      <td>368577.0992</td>\n",
              "    </tr>\n",
              "    <tr>\n",
              "      <th>...</th>\n",
              "      <td>...</td>\n",
              "      <td>...</td>\n",
              "      <td>...</td>\n",
              "      <td>...</td>\n",
              "      <td>...</td>\n",
              "      <td>...</td>\n",
              "    </tr>\n",
              "    <tr>\n",
              "      <th>144</th>\n",
              "      <td>81.043402</td>\n",
              "      <td>1992.651007</td>\n",
              "      <td>3</td>\n",
              "      <td>3</td>\n",
              "      <td>1</td>\n",
              "      <td>286772.0776</td>\n",
              "    </tr>\n",
              "    <tr>\n",
              "      <th>145</th>\n",
              "      <td>112.618247</td>\n",
              "      <td>1977.000000</td>\n",
              "      <td>4</td>\n",
              "      <td>4</td>\n",
              "      <td>3</td>\n",
              "      <td>389630.9806</td>\n",
              "    </tr>\n",
              "    <tr>\n",
              "      <th>146</th>\n",
              "      <td>83.472145</td>\n",
              "      <td>1967.000000</td>\n",
              "      <td>3</td>\n",
              "      <td>3</td>\n",
              "      <td>1</td>\n",
              "      <td>287331.9925</td>\n",
              "    </tr>\n",
              "    <tr>\n",
              "      <th>147</th>\n",
              "      <td>119.494330</td>\n",
              "      <td>1964.000000</td>\n",
              "      <td>4</td>\n",
              "      <td>12</td>\n",
              "      <td>2</td>\n",
              "      <td>410702.0110</td>\n",
              "    </tr>\n",
              "    <tr>\n",
              "      <th>148</th>\n",
              "      <td>102.214961</td>\n",
              "      <td>1962.000000</td>\n",
              "      <td>3</td>\n",
              "      <td>3</td>\n",
              "      <td>1</td>\n",
              "      <td>350955.0676</td>\n",
              "    </tr>\n",
              "  </tbody>\n",
              "</table>\n",
              "<p>149 rows × 6 columns</p>\n",
              "</div>\n",
              "      <button class=\"colab-df-convert\" onclick=\"convertToInteractive('df-8ca2350e-9647-46c0-8691-50676603eff9')\"\n",
              "              title=\"Convert this dataframe to an interactive table.\"\n",
              "              style=\"display:none;\">\n",
              "        \n",
              "  <svg xmlns=\"http://www.w3.org/2000/svg\" height=\"24px\"viewBox=\"0 0 24 24\"\n",
              "       width=\"24px\">\n",
              "    <path d=\"M0 0h24v24H0V0z\" fill=\"none\"/>\n",
              "    <path d=\"M18.56 5.44l.94 2.06.94-2.06 2.06-.94-2.06-.94-.94-2.06-.94 2.06-2.06.94zm-11 1L8.5 8.5l.94-2.06 2.06-.94-2.06-.94L8.5 2.5l-.94 2.06-2.06.94zm10 10l.94 2.06.94-2.06 2.06-.94-2.06-.94-.94-2.06-.94 2.06-2.06.94z\"/><path d=\"M17.41 7.96l-1.37-1.37c-.4-.4-.92-.59-1.43-.59-.52 0-1.04.2-1.43.59L10.3 9.45l-7.72 7.72c-.78.78-.78 2.05 0 2.83L4 21.41c.39.39.9.59 1.41.59.51 0 1.02-.2 1.41-.59l7.78-7.78 2.81-2.81c.8-.78.8-2.07 0-2.86zM5.41 20L4 18.59l7.72-7.72 1.47 1.35L5.41 20z\"/>\n",
              "  </svg>\n",
              "      </button>\n",
              "      \n",
              "  <style>\n",
              "    .colab-df-container {\n",
              "      display:flex;\n",
              "      flex-wrap:wrap;\n",
              "      gap: 12px;\n",
              "    }\n",
              "\n",
              "    .colab-df-convert {\n",
              "      background-color: #E8F0FE;\n",
              "      border: none;\n",
              "      border-radius: 50%;\n",
              "      cursor: pointer;\n",
              "      display: none;\n",
              "      fill: #1967D2;\n",
              "      height: 32px;\n",
              "      padding: 0 0 0 0;\n",
              "      width: 32px;\n",
              "    }\n",
              "\n",
              "    .colab-df-convert:hover {\n",
              "      background-color: #E2EBFA;\n",
              "      box-shadow: 0px 1px 2px rgba(60, 64, 67, 0.3), 0px 1px 3px 1px rgba(60, 64, 67, 0.15);\n",
              "      fill: #174EA6;\n",
              "    }\n",
              "\n",
              "    [theme=dark] .colab-df-convert {\n",
              "      background-color: #3B4455;\n",
              "      fill: #D2E3FC;\n",
              "    }\n",
              "\n",
              "    [theme=dark] .colab-df-convert:hover {\n",
              "      background-color: #434B5C;\n",
              "      box-shadow: 0px 1px 3px 1px rgba(0, 0, 0, 0.15);\n",
              "      filter: drop-shadow(0px 1px 2px rgba(0, 0, 0, 0.3));\n",
              "      fill: #FFFFFF;\n",
              "    }\n",
              "  </style>\n",
              "\n",
              "      <script>\n",
              "        const buttonEl =\n",
              "          document.querySelector('#df-8ca2350e-9647-46c0-8691-50676603eff9 button.colab-df-convert');\n",
              "        buttonEl.style.display =\n",
              "          google.colab.kernel.accessAllowed ? 'block' : 'none';\n",
              "\n",
              "        async function convertToInteractive(key) {\n",
              "          const element = document.querySelector('#df-8ca2350e-9647-46c0-8691-50676603eff9');\n",
              "          const dataTable =\n",
              "            await google.colab.kernel.invokeFunction('convertToInteractive',\n",
              "                                                     [key], {});\n",
              "          if (!dataTable) return;\n",
              "\n",
              "          const docLinkHtml = 'Like what you see? Visit the ' +\n",
              "            '<a target=\"_blank\" href=https://colab.research.google.com/notebooks/data_table.ipynb>data table notebook</a>'\n",
              "            + ' to learn more about interactive tables.';\n",
              "          element.innerHTML = '';\n",
              "          dataTable['output_type'] = 'display_data';\n",
              "          await google.colab.output.renderOutput(dataTable, element);\n",
              "          const docLink = document.createElement('div');\n",
              "          docLink.innerHTML = docLinkHtml;\n",
              "          element.appendChild(docLink);\n",
              "        }\n",
              "      </script>\n",
              "    </div>\n",
              "  </div>\n",
              "  "
            ]
          },
          "metadata": {},
          "execution_count": 36
        }
      ]
    }
  ]
}